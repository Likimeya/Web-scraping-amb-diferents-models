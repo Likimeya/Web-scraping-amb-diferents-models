{
 "cells": [
  {
   "attachments": {},
   "cell_type": "markdown",
   "metadata": {},
   "source": [
    "## Exercici 1\n",
    "**Realitza web scraping de dues de les tres pàgines web proposades utilitzant BeautifulSoup primer i Selenium després.**\n",
    "\n",
    "- http://quotes.toscrape.com\n",
    "\n",
    "- https://www.bolsamadrid.es\n",
    "\n",
    "- www.wikipedia.es (fes alguna cerca primer i escrapeja algun contingut)\n",
    "\n"
   ]
  },
  {
   "cell_type": "code",
   "execution_count": 200,
   "metadata": {},
   "outputs": [],
   "source": [
    "#importing libraries\n",
    "\n",
    "import numpy as np\n",
    "import pandas as pd\n",
    "import matplotlib.pyplot as plt\n",
    "import requests\n",
    "from bs4 import BeautifulSoup\n",
    "import csv\n",
    "\n",
    "from selenium import webdriver\n",
    "from selenium.webdriver.common.by import By\n",
    "from selenium.webdriver.support.ui import WebDriverWait\n",
    "from selenium.webdriver.support import expected_conditions as EC\n",
    "from selenium.common.exceptions import TimeoutException\n",
    "from selenium.webdriver.chrome.options import Options\n",
    "from time import sleep\n",
    "\n",
    "import scrapy\n",
    "from scrapy.crawler import CrawlerProcess\n",
    "import os\n",
    "\n",
    "import warnings\n",
    "warnings.filterwarnings(\"ignore\")"
   ]
  },
  {
   "attachments": {},
   "cell_type": "markdown",
   "metadata": {},
   "source": [
    "### Seleccionamos la web de las citas \n",
    "url = 'http://quotes.toscrape.com/'"
   ]
  },
  {
   "attachments": {},
   "cell_type": "markdown",
   "metadata": {},
   "source": [
    "#### Utilizamos BeatifulSoap"
   ]
  },
  {
   "cell_type": "code",
   "execution_count": 176,
   "metadata": {},
   "outputs": [],
   "source": [
    "# seleccionamos la primera página\n",
    "url = 'http://quotes.toscrape.com/'\n",
    "page = requests.get(url)"
   ]
  },
  {
   "cell_type": "code",
   "execution_count": 177,
   "metadata": {},
   "outputs": [],
   "source": [
    "soup = BeautifulSoup(page.content,'html.parser')"
   ]
  },
  {
   "cell_type": "code",
   "execution_count": 178,
   "metadata": {},
   "outputs": [],
   "source": [
    "ci = soup.find_all('span', class_=\"text\")\n",
    "#print(ci)"
   ]
  },
  {
   "cell_type": "code",
   "execution_count": 179,
   "metadata": {},
   "outputs": [],
   "source": [
    "au = soup.find_all('small', class_= 'author')\n",
    "#print(au)"
   ]
  },
  {
   "cell_type": "code",
   "execution_count": 180,
   "metadata": {},
   "outputs": [],
   "source": [
    "citas = list()\n",
    "autor = list()\n",
    "\n",
    "for i in ci:\n",
    "        citas.append(i.text)\n",
    "for i in au:\n",
    "        autor.append(i.text)"
   ]
  },
  {
   "cell_type": "code",
   "execution_count": 181,
   "metadata": {},
   "outputs": [
    {
     "data": {
      "text/plain": [
       "['“The world as we have created it is a process of our thinking. It cannot be changed without changing our thinking.”',\n",
       " '“It is our choices, Harry, that show what we truly are, far more than our abilities.”',\n",
       " '“There are only two ways to live your life. One is as though nothing is a miracle. The other is as though everything is a miracle.”',\n",
       " '“The person, be it gentleman or lady, who has not pleasure in a good novel, must be intolerably stupid.”',\n",
       " \"“Imperfection is beauty, madness is genius and it's better to be absolutely ridiculous than absolutely boring.”\",\n",
       " '“Try not to become a man of success. Rather become a man of value.”',\n",
       " '“It is better to be hated for what you are than to be loved for what you are not.”',\n",
       " \"“I have not failed. I've just found 10,000 ways that won't work.”\",\n",
       " \"“A woman is like a tea bag; you never know how strong it is until it's in hot water.”\",\n",
       " '“A day without sunshine is like, you know, night.”']"
      ]
     },
     "execution_count": 181,
     "metadata": {},
     "output_type": "execute_result"
    }
   ],
   "source": [
    "citas"
   ]
  },
  {
   "cell_type": "code",
   "execution_count": 182,
   "metadata": {},
   "outputs": [
    {
     "data": {
      "text/plain": [
       "['Albert Einstein',\n",
       " 'J.K. Rowling',\n",
       " 'Albert Einstein',\n",
       " 'Jane Austen',\n",
       " 'Marilyn Monroe',\n",
       " 'Albert Einstein',\n",
       " 'André Gide',\n",
       " 'Thomas A. Edison',\n",
       " 'Eleanor Roosevelt',\n",
       " 'Steve Martin']"
      ]
     },
     "execution_count": 182,
     "metadata": {},
     "output_type": "execute_result"
    }
   ],
   "source": [
    "autor"
   ]
  },
  {
   "cell_type": "code",
   "execution_count": 183,
   "metadata": {},
   "outputs": [],
   "source": [
    "# seleccionamos la primera página\n",
    "url = 'http://quotes.toscrape.com/page/2/'\n",
    "page2 = requests.get(url)"
   ]
  },
  {
   "cell_type": "code",
   "execution_count": 184,
   "metadata": {},
   "outputs": [],
   "source": [
    "soup2 = BeautifulSoup(page2.content,'html.parser')"
   ]
  },
  {
   "cell_type": "code",
   "execution_count": 185,
   "metadata": {},
   "outputs": [],
   "source": [
    "ci2 = soup2.find_all('span', class_=\"text\")\n",
    "#print(ci)"
   ]
  },
  {
   "cell_type": "code",
   "execution_count": 186,
   "metadata": {},
   "outputs": [],
   "source": [
    "au2 = soup2.find_all('small', class_= 'author')\n",
    "#print(au)"
   ]
  },
  {
   "cell_type": "code",
   "execution_count": 187,
   "metadata": {},
   "outputs": [],
   "source": [
    "citas2 = list()\n",
    "autor2 = list()\n",
    "\n",
    "\n",
    "for i in ci2:\n",
    "        citas2.append(i.text)\n",
    "for i in au2:\n",
    "        autor2.append(i.text)"
   ]
  },
  {
   "cell_type": "code",
   "execution_count": 188,
   "metadata": {},
   "outputs": [],
   "source": [
    "df_quotes_1 = pd.DataFrame({'Author':autor,'Quote':citas})"
   ]
  },
  {
   "cell_type": "code",
   "execution_count": 189,
   "metadata": {},
   "outputs": [],
   "source": [
    "df_quotes_2 = pd.DataFrame({'Author':autor2,'Quote':citas2})"
   ]
  },
  {
   "cell_type": "code",
   "execution_count": 190,
   "metadata": {},
   "outputs": [
    {
     "data": {
      "text/html": [
       "<div>\n",
       "<style scoped>\n",
       "    .dataframe tbody tr th:only-of-type {\n",
       "        vertical-align: middle;\n",
       "    }\n",
       "\n",
       "    .dataframe tbody tr th {\n",
       "        vertical-align: top;\n",
       "    }\n",
       "\n",
       "    .dataframe thead th {\n",
       "        text-align: right;\n",
       "    }\n",
       "</style>\n",
       "<table border=\"1\" class=\"dataframe\">\n",
       "  <thead>\n",
       "    <tr style=\"text-align: right;\">\n",
       "      <th></th>\n",
       "      <th>Author</th>\n",
       "      <th>Quote</th>\n",
       "    </tr>\n",
       "  </thead>\n",
       "  <tbody>\n",
       "    <tr>\n",
       "      <th>0</th>\n",
       "      <td>Albert Einstein</td>\n",
       "      <td>“The world as we have created it is a process ...</td>\n",
       "    </tr>\n",
       "    <tr>\n",
       "      <th>1</th>\n",
       "      <td>J.K. Rowling</td>\n",
       "      <td>“It is our choices, Harry, that show what we t...</td>\n",
       "    </tr>\n",
       "    <tr>\n",
       "      <th>2</th>\n",
       "      <td>Albert Einstein</td>\n",
       "      <td>“There are only two ways to live your life. On...</td>\n",
       "    </tr>\n",
       "    <tr>\n",
       "      <th>3</th>\n",
       "      <td>Jane Austen</td>\n",
       "      <td>“The person, be it gentleman or lady, who has ...</td>\n",
       "    </tr>\n",
       "    <tr>\n",
       "      <th>4</th>\n",
       "      <td>Marilyn Monroe</td>\n",
       "      <td>“Imperfection is beauty, madness is genius and...</td>\n",
       "    </tr>\n",
       "    <tr>\n",
       "      <th>5</th>\n",
       "      <td>Albert Einstein</td>\n",
       "      <td>“Try not to become a man of success. Rather be...</td>\n",
       "    </tr>\n",
       "    <tr>\n",
       "      <th>6</th>\n",
       "      <td>André Gide</td>\n",
       "      <td>“It is better to be hated for what you are tha...</td>\n",
       "    </tr>\n",
       "    <tr>\n",
       "      <th>7</th>\n",
       "      <td>Thomas A. Edison</td>\n",
       "      <td>“I have not failed. I've just found 10,000 way...</td>\n",
       "    </tr>\n",
       "    <tr>\n",
       "      <th>8</th>\n",
       "      <td>Eleanor Roosevelt</td>\n",
       "      <td>“A woman is like a tea bag; you never know how...</td>\n",
       "    </tr>\n",
       "    <tr>\n",
       "      <th>9</th>\n",
       "      <td>Steve Martin</td>\n",
       "      <td>“A day without sunshine is like, you know, nig...</td>\n",
       "    </tr>\n",
       "    <tr>\n",
       "      <th>10</th>\n",
       "      <td>Marilyn Monroe</td>\n",
       "      <td>“This life is what you make it. No matter what...</td>\n",
       "    </tr>\n",
       "    <tr>\n",
       "      <th>11</th>\n",
       "      <td>J.K. Rowling</td>\n",
       "      <td>“It takes a great deal of bravery to stand up ...</td>\n",
       "    </tr>\n",
       "    <tr>\n",
       "      <th>12</th>\n",
       "      <td>Albert Einstein</td>\n",
       "      <td>“If you can't explain it to a six year old, yo...</td>\n",
       "    </tr>\n",
       "    <tr>\n",
       "      <th>13</th>\n",
       "      <td>Bob Marley</td>\n",
       "      <td>“You may not be her first, her last, or her on...</td>\n",
       "    </tr>\n",
       "    <tr>\n",
       "      <th>14</th>\n",
       "      <td>Dr. Seuss</td>\n",
       "      <td>“I like nonsense, it wakes up the brain cells....</td>\n",
       "    </tr>\n",
       "    <tr>\n",
       "      <th>15</th>\n",
       "      <td>Douglas Adams</td>\n",
       "      <td>“I may not have gone where I intended to go, b...</td>\n",
       "    </tr>\n",
       "    <tr>\n",
       "      <th>16</th>\n",
       "      <td>Elie Wiesel</td>\n",
       "      <td>“The opposite of love is not hate, it's indiff...</td>\n",
       "    </tr>\n",
       "    <tr>\n",
       "      <th>17</th>\n",
       "      <td>Friedrich Nietzsche</td>\n",
       "      <td>“It is not a lack of love, but a lack of frien...</td>\n",
       "    </tr>\n",
       "    <tr>\n",
       "      <th>18</th>\n",
       "      <td>Mark Twain</td>\n",
       "      <td>“Good friends, good books, and a sleepy consci...</td>\n",
       "    </tr>\n",
       "    <tr>\n",
       "      <th>19</th>\n",
       "      <td>Allen Saunders</td>\n",
       "      <td>“Life is what happens to us while we are makin...</td>\n",
       "    </tr>\n",
       "  </tbody>\n",
       "</table>\n",
       "</div>"
      ],
      "text/plain": [
       "                 Author                                              Quote\n",
       "0       Albert Einstein  “The world as we have created it is a process ...\n",
       "1          J.K. Rowling  “It is our choices, Harry, that show what we t...\n",
       "2       Albert Einstein  “There are only two ways to live your life. On...\n",
       "3           Jane Austen  “The person, be it gentleman or lady, who has ...\n",
       "4        Marilyn Monroe  “Imperfection is beauty, madness is genius and...\n",
       "5       Albert Einstein  “Try not to become a man of success. Rather be...\n",
       "6            André Gide  “It is better to be hated for what you are tha...\n",
       "7      Thomas A. Edison  “I have not failed. I've just found 10,000 way...\n",
       "8     Eleanor Roosevelt  “A woman is like a tea bag; you never know how...\n",
       "9          Steve Martin  “A day without sunshine is like, you know, nig...\n",
       "10       Marilyn Monroe  “This life is what you make it. No matter what...\n",
       "11         J.K. Rowling  “It takes a great deal of bravery to stand up ...\n",
       "12      Albert Einstein  “If you can't explain it to a six year old, yo...\n",
       "13           Bob Marley  “You may not be her first, her last, or her on...\n",
       "14            Dr. Seuss  “I like nonsense, it wakes up the brain cells....\n",
       "15        Douglas Adams  “I may not have gone where I intended to go, b...\n",
       "16          Elie Wiesel  “The opposite of love is not hate, it's indiff...\n",
       "17  Friedrich Nietzsche  “It is not a lack of love, but a lack of frien...\n",
       "18           Mark Twain  “Good friends, good books, and a sleepy consci...\n",
       "19       Allen Saunders  “Life is what happens to us while we are makin..."
      ]
     },
     "execution_count": 190,
     "metadata": {},
     "output_type": "execute_result"
    }
   ],
   "source": [
    "df_def = df_quotes_1.append(df_quotes_2, ignore_index=True)\n",
    "df_def"
   ]
  },
  {
   "cell_type": "code",
   "execution_count": 191,
   "metadata": {},
   "outputs": [],
   "source": [
    "#pasamos el texto a un archivo csv\n",
    "df_def.to_csv('Citas.csv', index=False)"
   ]
  },
  {
   "attachments": {},
   "cell_type": "markdown",
   "metadata": {},
   "source": [
    "#### Utilizamos Selenium"
   ]
  },
  {
   "cell_type": "code",
   "execution_count": 192,
   "metadata": {},
   "outputs": [],
   "source": [
    "from selenium import webdriver\n",
    "from selenium.webdriver.support.ui import WebDriverWait\n",
    "from selenium.webdriver.support import expected_conditions as EC\n",
    "from selenium.webdriver.common.by import By\n",
    "import time\n",
    "import pandas as pd\n",
    "from logging import error\n",
    "from selenium import webdriver\n",
    "from selenium.webdriver.support.ui import WebDriverWait\n",
    "import time"
   ]
  },
  {
   "cell_type": "code",
   "execution_count": 193,
   "metadata": {},
   "outputs": [],
   "source": [
    "from selenium import webdriver\n",
    "from selenium.webdriver.chrome.options import Options\n",
    "\n",
    "#the path where chromedriver is\n",
    "driver_path = 'C:\\\\Users\\\\TAIDA\\\\Documents\\\\chromedriver.exe'\n",
    "\n",
    "#setting up the chrome driver so it doesn't visibly open a window\n",
    "options = Options()\n",
    "options.headless = True\n",
    "\n",
    "#read url\n",
    "driver = webdriver.Chrome(options = options, executable_path = driver_path)\n",
    "driver.get(\"http://quotes.toscrape.com/\")"
   ]
  },
  {
   "cell_type": "code",
   "execution_count": 194,
   "metadata": {},
   "outputs": [],
   "source": [
    "content = driver.find_elements(by= By.XPATH, value = '//div[@class=\"quote\"]')"
   ]
  },
  {
   "cell_type": "code",
   "execution_count": 195,
   "metadata": {},
   "outputs": [],
   "source": [
    "sentence = []\n",
    "person = []\n",
    "for element in content:\n",
    "    sentence.append(element.find_element(By.CLASS_NAME, 'text').text)\n",
    "    person.append(element.find_element(By.CLASS_NAME, 'author').text)"
   ]
  },
  {
   "cell_type": "code",
   "execution_count": 196,
   "metadata": {},
   "outputs": [],
   "source": [
    "driver.close()"
   ]
  },
  {
   "cell_type": "code",
   "execution_count": 197,
   "metadata": {},
   "outputs": [
    {
     "data": {
      "text/html": [
       "<div>\n",
       "<style scoped>\n",
       "    .dataframe tbody tr th:only-of-type {\n",
       "        vertical-align: middle;\n",
       "    }\n",
       "\n",
       "    .dataframe tbody tr th {\n",
       "        vertical-align: top;\n",
       "    }\n",
       "\n",
       "    .dataframe thead th {\n",
       "        text-align: right;\n",
       "    }\n",
       "</style>\n",
       "<table border=\"1\" class=\"dataframe\">\n",
       "  <thead>\n",
       "    <tr style=\"text-align: right;\">\n",
       "      <th></th>\n",
       "      <th>Author</th>\n",
       "      <th>Quote</th>\n",
       "    </tr>\n",
       "  </thead>\n",
       "  <tbody>\n",
       "    <tr>\n",
       "      <th>0</th>\n",
       "      <td>Albert Einstein</td>\n",
       "      <td>“The world as we have created it is a process ...</td>\n",
       "    </tr>\n",
       "    <tr>\n",
       "      <th>1</th>\n",
       "      <td>J.K. Rowling</td>\n",
       "      <td>“It is our choices, Harry, that show what we t...</td>\n",
       "    </tr>\n",
       "    <tr>\n",
       "      <th>2</th>\n",
       "      <td>Albert Einstein</td>\n",
       "      <td>“There are only two ways to live your life. On...</td>\n",
       "    </tr>\n",
       "    <tr>\n",
       "      <th>3</th>\n",
       "      <td>Jane Austen</td>\n",
       "      <td>“The person, be it gentleman or lady, who has ...</td>\n",
       "    </tr>\n",
       "    <tr>\n",
       "      <th>4</th>\n",
       "      <td>Marilyn Monroe</td>\n",
       "      <td>“Imperfection is beauty, madness is genius and...</td>\n",
       "    </tr>\n",
       "    <tr>\n",
       "      <th>5</th>\n",
       "      <td>Albert Einstein</td>\n",
       "      <td>“Try not to become a man of success. Rather be...</td>\n",
       "    </tr>\n",
       "    <tr>\n",
       "      <th>6</th>\n",
       "      <td>André Gide</td>\n",
       "      <td>“It is better to be hated for what you are tha...</td>\n",
       "    </tr>\n",
       "    <tr>\n",
       "      <th>7</th>\n",
       "      <td>Thomas A. Edison</td>\n",
       "      <td>“I have not failed. I've just found 10,000 way...</td>\n",
       "    </tr>\n",
       "    <tr>\n",
       "      <th>8</th>\n",
       "      <td>Eleanor Roosevelt</td>\n",
       "      <td>“A woman is like a tea bag; you never know how...</td>\n",
       "    </tr>\n",
       "    <tr>\n",
       "      <th>9</th>\n",
       "      <td>Steve Martin</td>\n",
       "      <td>“A day without sunshine is like, you know, nig...</td>\n",
       "    </tr>\n",
       "  </tbody>\n",
       "</table>\n",
       "</div>"
      ],
      "text/plain": [
       "              Author                                              Quote\n",
       "0    Albert Einstein  “The world as we have created it is a process ...\n",
       "1       J.K. Rowling  “It is our choices, Harry, that show what we t...\n",
       "2    Albert Einstein  “There are only two ways to live your life. On...\n",
       "3        Jane Austen  “The person, be it gentleman or lady, who has ...\n",
       "4     Marilyn Monroe  “Imperfection is beauty, madness is genius and...\n",
       "5    Albert Einstein  “Try not to become a man of success. Rather be...\n",
       "6         André Gide  “It is better to be hated for what you are tha...\n",
       "7   Thomas A. Edison  “I have not failed. I've just found 10,000 way...\n",
       "8  Eleanor Roosevelt  “A woman is like a tea bag; you never know how...\n",
       "9       Steve Martin  “A day without sunshine is like, you know, nig..."
      ]
     },
     "execution_count": 197,
     "metadata": {},
     "output_type": "execute_result"
    }
   ],
   "source": [
    "table3 = pd.DataFrame({'Author':person,'Quote':sentence})\n",
    "table3"
   ]
  },
  {
   "attachments": {},
   "cell_type": "markdown",
   "metadata": {},
   "source": [
    "### Seleccionamos la web de las citas \n",
    "url = 'https://www.bolsamadrid.es'"
   ]
  },
  {
   "attachments": {},
   "cell_type": "markdown",
   "metadata": {},
   "source": [
    "#### Utilizamos BeatifulSoap"
   ]
  },
  {
   "cell_type": "code",
   "execution_count": 198,
   "metadata": {},
   "outputs": [],
   "source": [
    "url_bolsa= 'https://www.bolsasymercados.es/bme-exchange/es/Indices/Resumen'"
   ]
  },
  {
   "cell_type": "code",
   "execution_count": 214,
   "metadata": {},
   "outputs": [
    {
     "data": {
      "text/plain": [
       "'\\r\\n<!DOCTYPE html>\\r\\n<html lang=\"es\">\\r\\n  <head data-idioma=\"es\" data-hora-act=\"Sat, 22 Apr 2023 14:47:32 GMT\" data-app-path=\"/bme-exchange\"><meta charset=\"utf-8\" /><meta http-equiv=\"X-UA-Compatible\" content=\"IE=edge\" /><meta name=\"viewport\" content=\"width=device-width, initial-scale=1\" /><meta http-equiv=\"Content-Type\" content=\"text/html; charset=UTF-8\" /><meta id=\"copyright\" name=\"copyright\" content=\"Copyright © BME 2023\" /><meta property=\"og:site_name\" content=\"BME Exchange\"/><meta property=\"og:locale\" content=\"es\"/><meta property=\"og:type\" content=\"website\"/><meta property=\"twitter:card\" content=\"summary_large_image\"/><meta property=\"twitter:site\" content=\"@GrupoBME\"/><meta property=\"og:title\" content=\"Resumen de Índices | BME Exchange\"/><meta property=\"twitter:title\" content=\"Resumen de Índices | BME Exchange\"/><meta property=\"og:url\" content=\"https://www.bolsasymercados.es/bme-exchange/es/Indices/Resumen\"/><meta property=\"twitter:url\" content=\"https://www.bolsasymercados.es/bme-exchange/es/Indices/Resumen\"/><link id=\"CanonicalLink\" rel=\"canonical\" href=\"https://www.bolsasymercados.es/bme-exchange/es/Indices/Resumen\" /><link rel=\"alternate\" hreflang=\"es\" href=\"https://www.bolsasymercados.es/bme-exchange/es/Indices/Resumen\" /><link rel=\"alternate\" hreflang=\"en\" href=\"/bme-exchange/en/Indices/Summary\" /><link rel=\"stylesheet\" href=\"//use.typekit.net/fag2lie.css\" /><script src=\\'/bme-exchange/js/Master?v=X6xj-2AlmMQtfRPQnNdB9dd66gbf1t3iVmzg-Ty14g01\\' defer></script>\\r\\n<link href=\"/bme-exchange/css/css?v=SemdazjV3SvQk8aAWz95nsG1XFDt_x1jK3Hvk9UF7YE1\" rel=\"stylesheet\"/>\\r\\n<!-- OneTrust -->\\r\\n<script src=\"https://cdn.cookielaw.org/scripttemplates/otSDKStub.js\" data-document-language=\"true\" type=\"text/javascript\" charset=\"UTF-8\" data-domain-script=\"848a4ce2-ee9d-424b-8508-fbc5b12c4591\"></script>\\r\\n<!-- End OneTrust -->\\r\\n\\r\\n<!-- Google Tag Manager -->\\r\\n<script id=\"GTM\">(function(w,d,s,l,i){w[l]=[{\\'pageLanguage\\':\\'es\\',\\'service\\':\\'bme-exchange\\',\\'target\\':\\'institutional-investor,brokers-and-intermediaries,hedge-funds,market-members,listed-companies,retail,media,stake-holders,general-public-others\\',\\'bussinessTopic\\':\\'listing,trading,market-prices,indices\\',\\'pagePurpose\\':\\'increase-awareness\\'}];const g=document.cookie.match(/_ga=(.+?);/);g&&w[l].push({gaClientId:g[1].split(\\'.\\').slice(-2).join(\\'.\\')});w[l].push({\\'gtm.start\\':new Date().getTime(),event:\\'gtm.js\\'});var f=d.getElementsByTagName(s)[0],j=d.createElement(s),dl=l!=\\'dataLayer\\'?\\'&l=\\'+l:\\'\\';j.async=true;j.src=\\'https://www.googletagmanager.com/gtm.js?id=\\'+i+dl+\\'\\';f.parentNode.insertBefore(j,f);})(window,document,\\'script\\',\\'dataLayer\\',\\'GTM-TJNWXNT\\');</script>\\r\\n<!-- End Google Tag Manager -->\\r\\n<title>\\r\\n\\tResumen de Índices | BME Exchange\\r\\n</title><script src=\"/bme-exchange/js/React/indices-summary/app.min.js?eJpeKw!!\" language=\"javascript\" type=\"text/javascript\" defer=\"defer\"></script></head>\\r\\n<body id=\"se_top\">\\r\\n    \\r\\n<!-- Google Tag Manager (noscript) -->\\r\\n<noscript><iframe src=\"https://www.googletagmanager.com/ns.html?id=GTM-TJNWXNT\" height=\"0\" width=\"0\" style=\"display:none;visibility:hidden\"></iframe></noscript>\\r\\n<!-- End Google Tag Manager (noscript) -->\\r\\n\\r\\n    <svg xmlns=\"http://www.w3.org/2000/svg\" class=\"hidden\"><symbol id=\"cross-icon\" width=\"40\" height=\"40\" viewBox=\"0 0 40 40\"><g transform=\"translate(11 11)\"><line class=\"a\" x1=\"18\" y2=\"18\"/><line class=\"a\" x1=\"18\" y2=\"18\" transform=\"translate(18 0) rotate(90)\"/></g><g><circle class=\"b\" cx=\"20\" cy=\"20\" r=\"18\"/></g></symbol><symbol id=\"search-icon\" width=\"18.2\" height=\"28\" viewBox=\"0 0 18.2 28\"><g transform=\"translate(0 5)\"><circle class=\"c\" cx=\"8\" cy=\"8\" r=\"7.2\"/><line class=\"c\" x1=\"13.8\" y1=\"13.8\" x2=\"16.5\" y2=\"16.5\"/></g></symbol><symbol id=\"private-icon\" width=\"15.3\" height=\"28\" viewBox=\"0 0 15.3 28\"><g transform=\"translate(0 5)\"><path class=\"c\" d=\"M1.3,9.2c0-0.8,0.7-1.5,1.5-1.5h10c0.8,0,1.5,0.7,1.5,1.5v6.4c0,0.8-0.7,1.5-1.5,1.5h-10 c-0.8,0-1.5-0.7-1.5-1.5V9.2z M3.3,6.3V4.4C3.3,2,5.3,0,7.7,0c2.4,0,4.4,2,4.4,4.4v1.9\"/><line class=\"c\" x1=\"7.7\" y1=\"10.2\" x2=\"7.7\" y2=\"15.1\"/></g></symbol><symbol id=\"mail-icon\" width=\"21\" height=\"28\" viewBox=\"0 0 21 28\"><g transform=\"translate(0 5)\"><rect x=\"0.8\" y=\"2.8\" class=\"c\" width=\"19.5\" height=\"13.5\"/><path class=\"c\" d=\"M1.2,3l9.4,8.6l9.3-8.9L1.2,3z\"/></g></symbol></svg>\\r\\n    <a id=\"skip-nav-link\" href=\"#main-content\" tabindex=\"1\">Saltar Navegación</a>\\r\\n    <header id=\"Cabecera\">\\r\\n        <nav class=\"hidden-print\" role=\"navigation\" aria-label=\"Navegación web corporativa\">\\r\\n            <div id=\"corporate-web-menu\" class=\"corporate-web collapse\"><div class=\"container\"><div class=\"row\">\\r\\n                <div>\\r\\n                    <a class=\"bme-brand\" href=\"/esp/Home\" target=\"_blank\" title=\"Web Corporativa BME\" tabindex=\"8\">\\r\\n                        <img src=\"/bme-exchange/images/base/Logo.svg\" aria-hidden=\"true\" alt=\"Logo BME\" />\\r\\n                        <span class=\"corporate-web-btn\">Web Corporativa<span class=\"glyphicon glyphicon-menu-right\"></span></span>\\r\\n                    </a>\\r\\n                    <ul class=\"nav navbar-nav bme-menu\">\\r\\n                        <li><a tabindex=\"9\"  href=\"/esp/Sobre-BME\" target=\"_blank\">Sobre<br />BME</a></li><li><a tabindex=\"10\"  href=\"/esp/Informacion-Corporativa\" target=\"_blank\">Información<br />Corporativa</a></li><li><a tabindex=\"11\"  href=\"/esp/Sala-Comunicacion\" target=\"_blank\">Sala de<br />Comunicación</a></li><li><a tabindex=\"12\"  href=\"/esp/Estudios-Publicaciones\" target=\"_blank\">Publicaciones y<br />Estadísticas</a></li><li><a tabindex=\"13\"  href=\"/esp/Sostenibilidad\" target=\"_blank\">Sostenibilidad</a></li><li><a tabindex=\"14\"  href=\"/esp/Formacion\" target=\"_blank\">Formación<br />Instituto BME</a></li>\\r\\n                    </ul>\\r\\n                    <a class=\"bme-close\" role=\"button\" data-toggle=\"collapse\" href=\"#corporate-web-menu\">\\r\\n                        <svg width=\"40\" height=\"40\" viewBox=\"0 0 40 40\"><use xlink:href=\"cross-icon\" href=\"#cross-icon\" /></svg>\\r\\n                        <span class=\"sr-only\">Cerrar</span>\\r\\n                    </a>\\r\\n                </div>\\r\\n                <div class=\"flecha-dropdown\"><div></div><div></div></div>\\r\\n            </div></div></div>\\r\\n        </nav>\\r\\n        <nav id=\"menu-superior\" class=\"navbar\" role=\"navigation\" aria-label=\"Navegación principal\"><div class=\"container\">\\r\\n            <div class=\"navbar-header\">\\r\\n                <a class=\"navbar-brand\" href=\"/bme-exchange/es/Home\" target=\"_self\" title=\"BME Exchange\" tabindex=\"2\">\\r\\n                    <img src=\"/bme-exchange/images/base/Logo.svg\" aria-hidden=\"true\" alt=\"BME Logo\" />\\r\\n                </a>\\r\\n                <strong class=\"navbar-claim\">La Bolsa es ahora BME Exchange</strong>\\r\\n                <ul id=\"top-menu-movil\" class=\"nav navbar-nav navbar-right icon-menu-superior hidden-print\">\\r\\n                    <li class=\"btn-return\">\\r\\n                        <button id=\"btn-return-main\" type=\"button\" role=\"button\">Menú Principal</button>\\r\\n                    </li>\\r\\n                    <li class=\"btn-menu\">\\r\\n                        <button type=\"button\" role=\"button\" data-toggle=\"collapse\" data-target=\"#navbar-menu\" aria-expanded=\"false\" class=\"collapsed\">\\r\\n                            <span class=\"icon-bar\"></span>\\r\\n                            <span class=\"icon-bar\"></span>\\r\\n                            <span class=\"icon-bar\"></span>\\r\\n                        </button>\\r\\n                    </li>\\r\\n                    <li class=\"btn-icon dropdown\">\\r\\n                        <a role=\"button\" href=\"#\" data-toggle=\"dropdown\" tabindex=\"3\">\\r\\n                            <svg width=\"18.2\" height=\"28\" viewBox=\"0 0 18.2 28\"><use xlink:href=\"search-icon\" href=\"#search-icon\" /></svg>\\r\\n                            <span class=\"sr-only\">Buscador</span>\\r\\n                        </a>\\r\\n                        <div id=\"search\" class=\"header-popover\">\\r\\n                            <div class=\"header-popover-flecha\"><div></div><div></div></div>\\r\\n                            <div class=\"header-popover-title\">\\r\\n                                <svg width=\"18.2\" height=\"28\" viewBox=\"0 0 18.2 28\"><use xlink:href=\"search-icon\" href=\"#search-icon\" /></svg>\\r\\n                                <span>BUSCADOR</span>\\r\\n                            </div>\\r\\n                            <div class=\"header-popover-line\">\\r\\n                                <form action=\"/bme-exchange/es/Buscar\" role=\"search\" aria-label=\"\">\\r\\n                                    <label for=\"search-text\">BUSCAR</label>\\r\\n                                    <div class=\"form-group\">\\r\\n                                        <input type=\"text\" class=\"form-control\" id=\"search-text\" name=\"q\" placeholder=\"Introducir texto a buscar\" autocomplete=\"off\">\\r\\n                                        <button type=\"submit\" class=\"header-popover-btn\"><span>Buscar</span><span class=\"glyphicon glyphicon-menu-right\"></span></button>\\r\\n                                    </div>\\r\\n                                </form>\\r\\n                            </div>\\r\\n                            <div class=\"header-popover-line\">\\r\\n                                <form action=\"/bme-exchange/es/Mercados-y-Cotizaciones/Acciones/Mercado-Continuo/Busqueda-Empresas\" role=\"search\" aria-label=\"\">\\r\\n                                    <label for=\"search-company\">BUSCADOR DE EMPRESAS</label>\\r\\n                                    <div class=\"form-group\">\\r\\n                                        <input type=\"text\" class=\"form-control\" id=\"search-company\" name=\"q\" aria-label=\"Introducir nombre, ISIN o ticker a buscar\" placeholder=\"Nombre / ISIN / Ticker\" autocomplete=\"off\" data-apì=\"https://www.bolsasymercados.es/API/Market\" data-url=\"/bme-exchange/\">\\r\\n                                        <button type=\"submit\" class=\"header-popover-btn\"><span>Buscar</span><span class=\"glyphicon glyphicon-menu-right\"></span></button>\\r\\n                                    </div>\\r\\n                                </form>\\r\\n                            </div>\\r\\n                        </div>\\r\\n                    </li>\\r\\n                    <li class=\"btn-icon dropdown\">\\r\\n                        <a role=\"button\" href=\"#\" data-toggle=\"dropdown\" tabindex=\"4\">\\r\\n                            <svg width=\"15.3\" height=\"28\" viewBox=\"0 0 15.3 28\"><use xlink:href=\"private-icon\" href=\"#private-icon\" /></svg>\\r\\n                            <span class=\"sr-only\">Áreas Privadas</span>\\r\\n                        </a>\\r\\n                        <div id=\"private\" class=\"header-popover\">\\r\\n                            <div class=\"header-popover-flecha\"><div></div><div></div></div>\\r\\n                            <div class=\"header-popover-title\">\\r\\n                                <svg width=\"15.3\" height=\"28\" viewBox=\"0 0 15.3 28\"><use xlink:href=\"private-icon\" href=\"#private-icon\" /></svg>\\r\\n                                <span>ÁREAS PRIVADAS</span>\\r\\n                            </div>\\r\\n                            <div class=\"header-popover-line header-popover-login-line\"><label>MIEMBROS RENTA VARIABLE</label><a href=\"https://privada.bmerv.es/\" target=\"_blank\" class=\"header-popover-btn\">Login<span class=\"glyphicon glyphicon-menu-right\"></span></a></div><div class=\"header-popover-line header-popover-login-line\"><label>BME GROWTH</label><a href=\"https://www.bmegrowth.es/Privado/LogIn.aspx\" target=\"_blank\" class=\"header-popover-btn\">Login<span class=\"glyphicon glyphicon-menu-right\"></span></a></div><div class=\"header-popover-line header-popover-login-line\"><label>MIEMBROS RENTA FIJA</label><a href=\"https://ww2.aiaf.es/\" target=\"_blank\" class=\"header-popover-btn\">Login<span class=\"glyphicon glyphicon-menu-right\"></span></a></div>\\r\\n                        </div>\\r\\n                    </li>\\r\\n                    <li class=\"btn-icon\">\\r\\n                        <a href=\"/bme-exchange/es/Contacto#Informacion-General\" tabindex=\"5\">\\r\\n                            <svg width=\"21\" height=\"28\" viewBox=\"0 0 21 28\"><use xlink:href=\"mail-icon\" href=\"#mail-icon\" /></svg>\\r\\n                            <span class=\"sr-only\">Contacto</span>\\r\\n                        </a>\\r\\n                    </li>\\r\\n                    <li class=\"btn-language\">\\r\\n                        <span aria-hidden=\"true\" class=\"language-anchor\"> ES </span><b class=\"language-anchor\">|</b><a href=\"/bme-exchange/en/Indices/Summary\" class=\"language-anchor\" tabindex=\"6\" hreflang=\"en\"><span aria-hidden=\"true\"><strong> EN </strong></span><span class=\"sr-only\">English</span></a>\\r\\n                    </li>\\r\\n                    <li class=\"hidden-xs corporate-web-btn\">\\r\\n                        <a role=\"button\" data-toggle=\"collapse\" class=\"collapsed\" href=\"#corporate-web-menu\" tabindex=\"8\">\\r\\n                            <span><img src=\"/bme-exchange/images/base/FlechaBME.svg\" aria-hidden=\"true\" alt=\"Logo BME\" /></span>\\r\\n                            <span>BME<br />CORPORATE</span>\\r\\n                        </a>\\r\\n                    </li>\\r\\n                    <li class=\"btn-menu-close\">\\r\\n                        <button id=\"close-menu\" type=\"button\" role=\"button\">\\r\\n                            <svg width=\"40\" height=\"40\" viewBox=\"0 0 40 40\"><use xlink:href=\"cross-icon\" href=\"#cross-icon\" /></svg>\\r\\n                            <span class=\"sr-only\">Cerrar</span>\\r\\n                        </button>\\r\\n                    </li>\\r\\n                </ul>\\r\\n            </div>\\r\\n            <div class=\"navbar-header hidden-print\">\\r\\n                <ul class=\"nav navbar-nav collapse navbar-collapse op-menu-superior yamm\" id=\"navbar-menu\">\\r\\n                    <li class=\"dropdown\"><a class=\"dropdown-toggle \" href=\"/bme-exchange/es/Como-Cotizar\" data-toggle=\"dropdown\" role=\"button\" aria-haspopup=\"true\" aria-expanded=\"false\">Cotizar</a><div class=\"flecha-dropdown\"><div></div><div></div></div><ul class=\"dropdown-menu\"><li class=\"container-fluid\"><div class=\"row\"><a class=\"col-sm-12 dropdown-overview \" href=\"/bme-exchange/es/Como-Cotizar\" target=\"_self\" ><span class=\"menu-overview-title\">Cotizar</span><span class=\"menu-overview-btn\">Descubre más<span class=\"glyphicon glyphicon-menu-right\"></span></span><span class=\"menu-overview-claim\">Financia tus ambiciones de crecimiento</span></a></div><div class=\"row menu-options\"><div class=\"col-sm-2\"><ul class=\"menu-list\"><li><a class=\"visible-xs-block collapsed\" href=\"#menu24\" data-toggle=\"collapse\" aria-expanded=\"false\">Acciones</a><div id=\"menu24\" class=\"collapse mobile-menu-2\"><div class=\"btn-return-2lv\"><button type=\"button\" role=\"button\" data-toggle=\"collapse\" data-target=\"#menu24\">Cotizar</button></div><a class=\"\" href=\"/bme-exchange/es/Como-Cotizar/Cotizar-en-Bolsa\" target=\"_self\">Acciones</a><ul><li><a class=\"\" href=\"/bme-exchange/es/Como-Cotizar/Bolsa/Como-salir-a-Bolsa\" target=\"_self\">Cotizar en Bolsa</a></li><li><a class=\"\" href=\"/bme-exchange/es/Como-Cotizar/Bolsa/BME-Growth\" target=\"_self\">Cotizar en BME Growth</a></li><li><a class=\"\" href=\"/bme-exchange/es/Como-Cotizar/Bolsa/Latibex\" target=\"_self\">Cotizar en Latibex</a></li></ul></div></li></ul></div><div class=\"col-sm-2\"><ul class=\"menu-list\"><li><a class=\"visible-xs-block collapsed\" href=\"#menu28\" data-toggle=\"collapse\" aria-expanded=\"false\">Renta Fija</a><div id=\"menu28\" class=\"collapse mobile-menu-2\"><div class=\"btn-return-2lv\"><button type=\"button\" role=\"button\" data-toggle=\"collapse\" data-target=\"#menu28\">Cotizar</button></div><a class=\"\" href=\"/bme-exchange/es/Como-Cotizar/Renta-Fija\" target=\"_self\">Renta Fija</a><ul><li><a class=\"\" href=\"/bme-exchange/es/Como-Cotizar/Renta-Fija/AIAF\" target=\"_self\">Mercados Regulados - AIAF</a></li><li><a class=\"\" href=\"/bme-exchange/es/Como-Cotizar/Renta-Fija/MARF\" target=\"_self\">Mercado Alternativo - MARF</a></li></ul></div></li></ul></div><div class=\"col-sm-2\"><ul class=\"menu-list\"><li><a class=\"\" href=\"/bme-exchange/es/Como-Cotizar/ETFs\" target=\"_self\">ETFs</a></li></ul></div><div class=\"col-sm-2\"><ul class=\"menu-list\"><li><a class=\"\" href=\"/bme-exchange/es/Como-Cotizar/Warrants\" target=\"_self\">Warrants</a></li></ul></div><div class=\"col-sm-2\"><ul class=\"menu-list\"><li><a class=\"\" href=\"https://www.meff.es/esp/Sobre-Nosotros/Empresa-MEFF\" target=\"_blank\">Derivados</a></li></ul></div><div class=\"col-sm-2\"><ul class=\"menu-list\"><li><a class=\"\" href=\"https://www.bolsasymercados.es/BME_4Companies/esp/Home\" target=\"_blank\">Servicios para Emisores</a></li></ul></div></div></ul></li><li class=\"dropdown\"><a class=\"dropdown-toggle \" href=\"/bme-exchange/es/Negociar\" data-toggle=\"dropdown\" role=\"button\" aria-haspopup=\"true\" aria-expanded=\"false\">Negociar</a><div class=\"flecha-dropdown\"><div></div><div></div></div><ul class=\"dropdown-menu\"><li class=\"container-fluid\"><div class=\"row\"><a class=\"col-sm-12 dropdown-overview \" href=\"/bme-exchange/es/Negociar\" target=\"_self\" ><span class=\"menu-overview-title\">Negociar</span><span class=\"menu-overview-btn\">Descubre más<span class=\"glyphicon glyphicon-menu-right\"></span></span><span class=\"menu-overview-claim\">Calidad de mercado en la que confiar</span></a></div><div class=\"row menu-options\"><div class=\"col-sm-2\"><ul class=\"menu-list\"><li><a class=\"visible-xs-block collapsed\" href=\"#menu42\" data-toggle=\"collapse\" aria-expanded=\"false\">Mercados</a><div id=\"menu42\" class=\"collapse mobile-menu-2\"><div class=\"btn-return-2lv\"><button type=\"button\" role=\"button\" data-toggle=\"collapse\" data-target=\"#menu42\">Negociar</button></div><a class=\"\" href=\"/bme-exchange/es/Negociar/Mercados\" target=\"_self\">Mercados</a><ul><li><a class=\"\" href=\"/bme-exchange/es/Negociar/Mercados/Renta-Variable\" target=\"_self\">Acciones</a></li><li><a class=\"\" href=\"/bme-exchange/es/Negociar/Mercados/Renta-Fija\" target=\"_self\">Renta Fija</a></li><li><a class=\"\" href=\"/bme-exchange/es/Negociar/Mercados/ETFs\" target=\"_self\">ETFs</a></li><li><a class=\"\" href=\"/bme-exchange/es/Negociar/Mercados/Warrants\" target=\"_self\">Warrants</a></li><li><a class=\"\" href=\"/bme-exchange/es/Negociar/Mercados/Derivados\" target=\"_self\">Derivados</a></li></ul></div></li></ul></div><div class=\"col-sm-2\"><ul class=\"menu-list\"><li><a class=\"visible-xs-block collapsed\" href=\"#menu63\" data-toggle=\"collapse\" aria-expanded=\"false\">Participantes de Mercado</a><div id=\"menu63\" class=\"collapse mobile-menu-2\"><div class=\"btn-return-2lv\"><button type=\"button\" role=\"button\" data-toggle=\"collapse\" data-target=\"#menu63\">Negociar</button></div><a class=\"\" href=\"/bme-exchange/es/Negociar/Participantes-y-Miembros-de-Mercado\" target=\"_self\">Participantes de Mercado</a><ul><li><a class=\"\" href=\"/bme-exchange/es/Negociar/Participantes/Listado-de-Participantes-y-Miembros-de-Mercado\" target=\"_self\">Miembros</a></li><li><a class=\"\" href=\"/bme-exchange/es/Negociar/Participantes/Servicios-para-Participantes\" target=\"_self\">Servicios para Participantes</a></li></ul></div></li></ul></div><div class=\"col-sm-2\"><ul class=\"menu-list\"><li><a class=\"visible-xs-block collapsed\" href=\"#menu75\" data-toggle=\"collapse\" aria-expanded=\"false\">Plataforma de Negociación</a><div id=\"menu75\" class=\"collapse mobile-menu-2\"><div class=\"btn-return-2lv\"><button type=\"button\" role=\"button\" data-toggle=\"collapse\" data-target=\"#menu75\">Negociar</button></div><a class=\"\" href=\"/bme-exchange/es/Negociar/Plataforma-de-Negociacion\" target=\"_self\">Plataforma de Negociación</a><ul><li><a class=\"\" href=\"/bme-exchange/es/Negociar/Plataforma-de-Negociacion/SIBE-SMART-Acciones\" target=\"_self\">SIBE SMART (Acciones - Warrants - ETFs)</a></li><li><a class=\"\" href=\"/bme-exchange/es/Negociar/Plataforma-de-Negociacion/SEND-SENAF\" target=\"_self\">SEND - SENAF (Renta Fija)</a></li><li><a class=\"\" href=\"https://www.meff.es/esp/Tecnologia/Formas-Conexion\" target=\"_blank\">MEFF-SMART (Derivados)</a></li></ul></div></li></ul></div></div></ul></li><li class=\"dropdown\"><a class=\"dropdown-toggle active\" href=\"/bme-exchange/es/Indices\" data-toggle=\"dropdown\" role=\"button\" aria-haspopup=\"true\" aria-expanded=\"false\">Índices</a><div class=\"flecha-dropdown\"><div></div><div></div></div><ul class=\"dropdown-menu\"><li class=\"container-fluid\"><div class=\"row\"><a class=\"col-sm-12 dropdown-overview active\" href=\"/bme-exchange/es/Indices\" target=\"_self\" ><span class=\"menu-overview-title\">Índices</span><span class=\"menu-overview-btn\">Descubre más<span class=\"glyphicon glyphicon-menu-right\"></span></span><span class=\"menu-overview-claim\">Índices de BME. Las principales referencias de los mercados españoles</span></a></div><div class=\"row menu-options\"><div class=\"col-sm-2\"><ul class=\"menu-list\"><li><a class=\"active sel\" href=\"/bme-exchange/es/Indices/Resumen\" target=\"_self\">Resumen de Índices</a></li></ul><ul class=\"menu-list\"><li><a class=\"\" href=\"/bme-exchange/es/Indices/Avisos\" target=\"_self\">Avisos</a></li></ul><ul class=\"menu-list\"><li><a class=\"\" href=\"/bme-exchange/es/Indices/Regulacion\" target=\"_self\">Regulación Índices</a></li></ul><ul class=\"menu-list\"><li><a class=\"\" href=\"/bme-exchange/es/Indices/Comite-Asesor-Tecnico/Comite-Asesor-Tecnico\" target=\"_self\">Comité Asesor Técnico</a></li></ul></div><div class=\"col-sm-2\"><ul class=\"menu-list\"><li><a class=\"\" href=\"/bme-exchange/es/Indices/Ibex\" target=\"_self\">Índices IBEX</a></li></ul></div><div class=\"col-sm-2\"><ul class=\"menu-list\"><li><a class=\"\" href=\"/bme-exchange/es/indices/ESG\" target=\"_self\">Índices ESG</a></li></ul></div><div class=\"col-sm-2\"><ul class=\"menu-list\"><li><a class=\"\" href=\"/bme-exchange/es/Indices/Bolsas\" target=\"_self\">Índices Bolsas</a></li></ul></div><div class=\"col-sm-2\"><ul class=\"menu-list\"><li><a class=\"\" href=\"/bme-exchange/es/Indices/Latibex\" target=\"_self\">Índices Latibex</a></li></ul></div><div class=\"col-sm-2\"><ul class=\"menu-list\"><li><a class=\"\" href=\"/bme-exchange/es/Indices/Renta-Fija\" target=\"_self\">Índices Renta Fija</a></li></ul></div></div></ul></li><li class=\"dropdown\"><a class=\"dropdown-toggle \" href=\"/bme-exchange/es/Mercados-y-Cotizaciones\" data-toggle=\"dropdown\" role=\"button\" aria-haspopup=\"true\" aria-expanded=\"false\">Mercados y Cotizaciones</a><div class=\"flecha-dropdown\"><div></div><div></div></div><ul class=\"dropdown-menu\"><li class=\"container-fluid\"><div class=\"row\"><a class=\"col-sm-12 dropdown-overview \" href=\"/bme-exchange/es/Mercados-y-Cotizaciones\" target=\"_self\" ><span class=\"menu-overview-title\">Mercados y Cotizaciones</span><span class=\"menu-overview-btn\">Descubre más<span class=\"glyphicon glyphicon-menu-right\"></span></span><span class=\"menu-overview-claim\">La clave para el éxito de cualquier decisión de inversión</span></a></div><div class=\"row menu-options\"><div class=\"col-sm-2\"><ul class=\"menu-list\"><li><a class=\"visible-xs-block collapsed\" href=\"#menu135\" data-toggle=\"collapse\" aria-expanded=\"false\">Acciones</a><div id=\"menu135\" class=\"collapse mobile-menu-2\"><div class=\"btn-return-2lv\"><button type=\"button\" role=\"button\" data-toggle=\"collapse\" data-target=\"#menu135\">Mercados y Cotizaciones</button></div><a class=\"\" href=\"/bme-exchange/es/Mercados-y-Cotizaciones/Acciones/Mercado-Continuo/Precios/ibex-35-ES0SI0000005\" target=\"_self\">Acciones</a><ul><li><span>Mercado Principal</span><ul><li><a class=\"\" href=\"/bme-exchange/es/Mercados-y-Cotizaciones/Acciones/Mercado-Continuo/Precios/ibex-35-ES0SI0000005\" target=\"_self\">Precios</a></li><li><a class=\"\" href=\"/bme-exchange/es/Mercados-y-Cotizaciones/Acciones/Mercado-Continuo/Empresas-Cotizadas\" target=\"_self\">Empresas Cotizadas</a></li><li><a class=\"\" href=\"/bme-exchange/es/Mercados-y-Cotizaciones/Acciones/Mercado-Continuo/Ultima-Informacion-Privilegiada\" target=\"_self\">Información Privilegiada/Otra información relevante</a></li><li><a class=\"\" href=\"/bme-exchange/es/Mercados-y-Cotizaciones/Acciones/Mercado-Continuo/Operaciones-Financieras\" target=\"_self\">Operaciones Financieras</a></li></ul></li><li><a class=\"\" href=\"https://www.latibex.com/esp/Cotizaciones/Acciones\" target=\"_blank\">Latibex</a></li><li><a class=\"\" href=\"https://www.bmegrowth.es/esp/Precios.aspx\" target=\"_blank\">BME Growth</a></li><li><a class=\"\" href=\"https://www.bolsasymercados.es/MTF_Equity/esp/SICAV/Precios.aspx?mercado=ValorLiquidativo\" target=\"_blank\">BME MTF Equity</a></li><li><span>Herramientas</span><ul><li><a class=\"\" href=\"/bme-exchange/es/Mercados-y-Cotizaciones/Acciones/Analisis-y-Herramientas/Analisis-de-empresas/Lighthouse\" target=\"_self\">Análisis Lighthouse Acciones</a></li><li><a class=\"\" href=\"/bme-exchange/es/Mercados-y-Cotizaciones/Acciones/Analisis-y-Herramientas/Analisis-de-empresas/Morningstar/ibex-Medium\" target=\"_self\">Analisis Morningstar Acciones</a></li><li><a class=\"\" href=\"/bme-exchange/es/Negociar/Agenda\" target=\"_self\">Agenda del Inversor</a></li><li><a class=\"\" href=\"/bme-exchange/es/Mercados-y-Cotizaciones/Acciones/Analisis-y-Herramientas/Mi-Cartera\" target=\"_self\">Mi Cartera</a></li></ul></li></ul></div></li></ul></div><div class=\"col-sm-2\"><ul class=\"menu-list\"><li><a class=\"visible-xs-block collapsed\" href=\"#menu205\" data-toggle=\"collapse\" aria-expanded=\"false\">Renta Fija</a><div id=\"menu205\" class=\"collapse mobile-menu-2\"><div class=\"btn-return-2lv\"><button type=\"button\" role=\"button\" data-toggle=\"collapse\" data-target=\"#menu205\">Mercados y Cotizaciones</button></div><a class=\"\" href=\"/bme-exchange/es/Mercados-y-Cotizaciones/Renta-Fija/Precios/AIAF-SEND-Deuda-Publica\" target=\"_self\">Renta Fija</a><ul><li><a class=\"\" href=\"/bme-exchange/es/Mercados-y-Cotizaciones/Renta-Fija/Precios/AIAF-SEND-Deuda-Publica\" target=\"_self\">Precios</a></li><li><a class=\"\" href=\"/bme-exchange/es/Mercados-y-Cotizaciones/Renta-Fija/Emisiones-En-Circulacion\" target=\"_self\">Emisiones en circulación</a></li><li><a class=\"\" href=\"/bme-exchange/es/Mercados-y-Cotizaciones/Renta-Fija/Listado-de-Emisores\" target=\"_self\">Emisores</a></li><li><a class=\"\" href=\"/bme-exchange/es/Mercados-y-Cotizaciones/Renta-Fija/Admision-a-Cotizar/Ultimos-Desembolsos\" target=\"_self\">Admisiones a Cotización</a></li><li><a class=\"\" href=\"/bme-exchange/es/Mercados-y-Cotizaciones/Renta-Fija/Anuncios\" target=\"_self\">Anuncios emisiones</a></li><li><a class=\"\" href=\"/bme-exchange/es/Mercados-y-Cotizaciones/Renta-Fija/Noticias\" target=\"_self\">Noticias</a></li><li><a class=\"\" href=\"/bme-exchange/es/Mercados-y-Cotizaciones/Renta-Fija/MARF-Hechos-Relevantes\" target=\"_self\">MARF Hechos Relevantes</a></li><li><a class=\"\" href=\"/bme-exchange/es/Mercados-y-Cotizaciones/Renta-Fija/MARF-Informacion-Financiera\" target=\"_self\">MARF Información Financiera</a></li></ul></div></li></ul></div><div class=\"col-sm-2\"><ul class=\"menu-list\"><li><a class=\"visible-xs-block collapsed\" href=\"#menu237\" data-toggle=\"collapse\" aria-expanded=\"false\">ETFs</a><div id=\"menu237\" class=\"collapse mobile-menu-2\"><div class=\"btn-return-2lv\"><button type=\"button\" role=\"button\" data-toggle=\"collapse\" data-target=\"#menu237\">Mercados y Cotizaciones</button></div><a class=\"\" href=\"/bme-exchange/es/Mercados-y-Cotizaciones/ETFs/Cotizaciones\" target=\"_self\">ETFs</a><ul><li><a class=\"\" href=\"/bme-exchange/es/Mercados-y-Cotizaciones/ETFs/Cotizaciones\" target=\"_self\">Cotizaciones</a></li><li><a class=\"\" href=\"/bme-exchange/es/Mercados-y-Cotizaciones/ETFs/Cierre-Mercado\" target=\"_self\">Cierre de mercado</a></li><li><a class=\"\" href=\"/bme-exchange/es/Mercados-y-Cotizaciones/ETFs/Dividendos\" target=\"_self\">Dividendos</a></li><li><a class=\"\" href=\"/bme-exchange/es/Mercados-y-Cotizaciones/ETFs/Hechos-Relevantes\" target=\"_self\">Hechos Relevantes</a></li><li><a class=\"\" href=\"/bme-exchange/es/Mercados-y-Cotizaciones/ETFs/Herramientas/Mi-Cartera-de-ETFs?m=ETF\" target=\"_self\">Mi Cartera ETF</a></li></ul></div></li></ul></div><div class=\"col-sm-2\"><ul class=\"menu-list\"><li><a class=\"visible-xs-block collapsed\" href=\"#menu246\" data-toggle=\"collapse\" aria-expanded=\"false\">Warrants</a><div id=\"menu246\" class=\"collapse mobile-menu-2\"><div class=\"btn-return-2lv\"><button type=\"button\" role=\"button\" data-toggle=\"collapse\" data-target=\"#menu246\">Mercados y Cotizaciones</button></div><a class=\"\" href=\"/bme-exchange/es/Mercados-y-Cotizaciones/Warrants/Precios/Warrants\" target=\"_self\">Warrants</a><ul><li><a class=\"\" href=\"/bme-exchange/es/Mercados-y-Cotizaciones/Warrants/Precios/Warrants\" target=\"_self\">Cotizaciones</a></li><li><a class=\"\" href=\"/bme-exchange/es/Mercados-y-Cotizaciones/Warrants/Informes\" target=\"_self\">Informes</a></li><li><a class=\"\" href=\"/bme-exchange/es/Mercados-y-Cotizaciones/Warrants/Listado-de-valores\" target=\"_self\">Listado de valores</a></li><li><a class=\"\" href=\"/bme-exchange/es/Mercados-y-Cotizaciones/Warrants/Ajustes-Operaciones-Financieras\" target=\"_self\">Ajustes por Operaciones Financieras</a></li><li><a class=\"\" href=\"/bme-exchange/es/Mercados-y-Cotizaciones/Warrants/Admisiones\" target=\"_self\">Admisiones</a></li></ul></div></li></ul></div><div class=\"col-sm-2\"><ul class=\"menu-list\"><li><a class=\"\" href=\"https://www.meff.es/esp/Derivados-Financieros/Cotizaciones\" target=\"_blank\">Derivados</a></li></ul></div><div class=\"col-sm-2\"><ul class=\"menu-list\"><li><a class=\"\" href=\"/bme-exchange/es/Mercados-y-Cotizaciones/Estadisticas\" target=\"_self\">Estadísticas</a></li></ul><ul class=\"menu-list\"><li><a class=\"\" href=\"https://www.bmemarketdata.es/esp/\" target=\"_blank\">Market Data</a></li></ul></div></div></ul></li><li><a class=\"\" href=\"/bme-exchange/es/Regulacion/Buscador-Regulacion\" target=\"_self\">Regulación</a></li><li class=\"dropdown\"><a class=\"dropdown-toggle \" href=\"/bme-exchange/es/Para-Inversores\" data-toggle=\"dropdown\" role=\"button\" aria-haspopup=\"true\" aria-expanded=\"false\">Para inversores</a><div class=\"flecha-dropdown\"><div></div><div></div></div><ul class=\"dropdown-menu\"><li class=\"container-fluid\"><div class=\"row\"><a class=\"col-sm-12 dropdown-overview \" href=\"/bme-exchange/es/Para-Inversores\" target=\"_self\" ><span class=\"menu-overview-title\">Para inversores</span><span class=\"menu-overview-btn\">Descubre más<span class=\"glyphicon glyphicon-menu-right\"></span></span><span class=\"menu-overview-claim\">Tecnología e innovación al servicio de los inversores</span></a></div><div class=\"row menu-options\"><div class=\"col-sm-2\"><ul class=\"menu-list\"><li><a class=\"\" href=\"/bme-exchange/es/Para-Inversores/Institucionales\" target=\"_self\">Institucionales</a></li></ul></div><div class=\"col-sm-2\"><ul class=\"menu-list\"><li><a class=\"\" href=\"/bme-exchange/es/Para-Inversores/Minoristas\" target=\"_self\">Minoristas</a></li></ul></div></div></ul></li><li><a class=\"\" href=\"/bme-exchange/es/Formacion\" target=\"_self\">Formación</a></li>\\r\\n                    <li class=\"bme-brand\">\\r\\n                        <a href=\"/esp/Home\" target=\"_blank\" title=\"Web Corporativa BME\">\\r\\n                            <img src=\"/bme-exchange/images/base/LogoBMEInv.svg\" aria-hidden=\"true\" alt=\"Logo BME\" />\\r\\n                            <span class=\"corporate-web-btn\">Web Corporativa<span class=\"glyphicon glyphicon-menu-right\"></span></span>\\r\\n                        </a>\\r\\n                    </li>\\r\\n                </ul>\\r\\n            </div>\\r\\n        </div></nav>\\r\\n    </header>\\r\\n\\r\\n    \\r\\n\\r\\n\\r\\n<div class=\"container\"><div class=\"row\"><div class=\"col-sm-12\">\\r\\n    \\r\\n<ol id=\"breadcrumbs\" class=\"breadcrumb hidden-print\"><li><a href=\"/bme-exchange/es/Home\" target=\"_self\">Home</a></li><li><a href=\"/bme-exchange/es/Indices\" target=\"_self\">&#205;ndices</a></li><li class=\"active\"><a href=\"/bme-exchange/es/Indices/Resumen\" target=\"_self\">Resumen de &#205;ndices</a></li></ol>\\r\\n<script type=\"application/ld+json\">{\"@context\": \"http://schema.org\",\"@type\": \"BreadcrumbList\",\"itemListElement\":[{\"@type\": \"ListItem\",\"position\": 1,\"item\":{\"@id\": \"https://www.bolsasymercados.es/bme-exchange/es/Home\",\"name\": \"Home\"}},{\"@type\": \"ListItem\",\"position\": 2,\"item\":{\"@id\": \"https://www.bolsasymercados.es/bme-exchange/es/Indices\",\"name\": \"Índices\"}},{\"@type\": \"ListItem\",\"position\": 3,\"item\":{\"@id\": \"https://www.bolsasymercados.es/bme-exchange/es/Indices/Resumen\",\"name\": \"Resumen de Índices\"}}]}</script>\\r\\n</div></div></div>\\r\\n\\r\\n    <div class=\"container\"><div class=\"row\"><div class=\"col-lg-8 col-md-9 col-sm-10\">\\r\\n        <h1>Resumen de Índices</h1>\\r\\n    </div></div></div>\\r\\n\\r\\n<div class=\"container\"><div class=\"row\"><div class=\"col-sm-12\">\\r\\n    \\r\\n</div></div></div>\\r\\n<div class=\"Contenido\">\\r\\n    \\r\\n\\r\\n\\r\\n</div>\\r\\n<main id=\"main-content\" class=\"Contenido\">\\r\\n    \\r\\n    \\r\\n<div class=\"container\"><div class=\"row\"><div class=\"col-sm-12\"><div id=\"overlay\"></div><div id=\"root\"></div></div></div></div>\\r\\n\\r\\n\\r\\n\\r\\n</main>\\r\\n\\r\\n\\r\\n    <div id=\"AccionesPag\" class=\"hidden-print home\" data-url=\"https://www.bolsasymercados.es/bme-exchange/es/Indices/Resumen\">\\r\\n\\t<div class=\"links\">\\r\\n        <a href=\"#share_in_twitter\" title=\"Compartir en Twitter\" class=\"icon twitter\"></a>\\r\\n        <a href=\"#share_in_whatsapp\" title=\"Enviar por WhatsApp\" class=\"icon whatsapp\"></a>\\r\\n        <a href=\"#share_in_linkedin\" title=\"Compartir en LinkedIn\" class=\"icon linkedin\"></a>\\r\\n        <a href=\"#share_in_facebook\" title=\"Compartir en Facebook\" class=\"icon facebook\"></a>\\r\\n        <a href=\"#share_in_mail\" title=\"Enviar por email\" class=\"icon email sep\"></a>\\r\\n        <a href=\"#share_in_print\" title=\"Imprimir\" class=\"icon print sep\"></a>\\r\\n    </div><a href=\"#share_in_open\" class=\"tirador\">\\r\\n        <span class=\"glyphicon\" aria-hidden=\"true\"></span>\\r\\n    </a>\\r\\n</div>\\r\\n    <a id=\"VolverInicio\" class=\"hidden-print hidden\" href=\"#top\" target=\"_self\"><span class=\"glyphicon glyphicon-chevron-up\" aria-hidden=\"true\"></span></a>\\r\\n    <footer id=\"Pie\" class=\"hidden-print\">\\r\\n        <div id=\"LinksPie\">\\r\\n            <div class=\"container\"><div class=\"row\">\\r\\n                <div class=\"col-lg-7 col-md-12 links\">\\r\\n<div><div class=\"titulo-col-pie\"><span>MERCADO</span></div><ul><li><a href=\"/bme-exchange/es/Negociar/Calendario-Mercado\" target=\"_self\">Calendario de Mercado</a></li>\\r\\n<li><a href=\"/bme-exchange/es/Negociar/Horario-Mercado\" target=\"_self\">Horario de Mercado</a></li>\\r\\n<li><a href=\"/bme-exchange/es/Market-Status\" target=\"_self\">Estado del Mercado</a></li>\\r\\n<li><a href=\"/bme-exchange/es/Negociar/Mercados/Renta-Variable/MIFID-II/Informes-Best-Execution\" target=\"_self\">MiFID II Renta Variable</a></li>\\r\\n<li><a href=\"/bme-exchange/es/Negociar/Mercados/Renta-Fija/MIFID-II/Informes-Best-Execution\" target=\"_self\">MiFID II Renta Fija</a></li>\\r\\n<li><a href=\"https://www.meff.es/esp/MIFID-II\" target=\"_blank\">MiFID II Derivados</a></li>\\r\\n</ul></div><div><div class=\"titulo-col-pie\"><span>LINKS RÁPIDOS</span></div><ul><li><a href=\"/bme-exchange/es/Mercados-y-Cotizaciones/Acciones/Mercado-Continuo/Precios/ibex-35-ES0SI0000005\" target=\"_self\">IBEX 35®</a></li>\\r\\n<li><a href=\"/bme-exchange/es/Mercados-y-Cotizaciones/Acciones/Mercado-Continuo/Operaciones-Financieras/Dividendos\" target=\"_self\">Dividendos</a></li>\\r\\n<li><a href=\"/bme-exchange/es/Negociar/Agenda\" target=\"_self\">Agenda del Inversor</a></li>\\r\\n<li><a href=\"/bme-exchange/es/Mercados-y-Cotizaciones/Acciones/Analisis-y-Herramientas/Mi-Cartera\" target=\"_self\">Mi Cartera</a></li>\\r\\n<li><a href=\"/bme-exchange/es/Mercados-y-Cotizaciones/Estadisticas/Boletines-Informes\" target=\"_self\">Boletines de cotización</a></li>\\r\\n<li><a href=\"/bme-exchange/es/Mercados-y-Cotizaciones/Estadisticas\" target=\"_self\">Estadísticas</a></li>\\r\\n</ul></div><div><div class=\"titulo-col-pie\"><span>SERVICIOS</span></div><ul><li><a href=\"https://www.bolsasymercados.es/BME_4Companies\" target=\"_blank\">BME 4Companies</a></li>\\r\\n<li><a href=\"https://www.bmeregulatoryservices.es\" target=\"_blank\">BME Regulatory Services</a></li>\\r\\n<li><a href=\"/bme-exchange/es/Negociar/Participantes/Servicios-para-Participantes\" target=\"_self\">Servicios para intermediarios</a></li>\\r\\n<li><a href=\"https://www.bmemarketdata.es\" target=\"_blank\">Market Data</a></li>\\r\\n<li><a href=\"/bme-exchange/es/Espacios-Corporativos\" target=\"_self\">Espacios para Eventos Corporativos</a></li>\\r\\n<li><a href=\"https://www.bolsasymercados.es/esp/Sala-Comunicacion\" target=\"_blank\">Sala de Comunicación BME</a></li>\\r\\n</ul></div>\\r\\n                </div><div class=\"col-lg-5 col-md-12 siguenos\">\\r\\n                    <div>\\r\\n                        <div class=\"titulo-col-pie\"><span>SÍGUENOS:</span></div>\\r\\n                        <div class=\"RRSS\">\\r\\n                            <a href=\"https://twitter.com/GrupoBME\" title=\"Twitter\" target=\"_blank\" class=\"icon twitter\"></a>\\r\\n                            <a href=\"https://www.flickr.com/photos/archivobme/\" title=\"Flickr\" target=\"_blank\" class=\"icon flickr\"></a>\\r\\n                            <a href=\"https://www.linkedin.com/company/grupo-bme\" title=\"LinkedIn\" target=\"_blank\" class=\"icon linkedin\"></a>\\r\\n                            <a href=\"https://www.youtube.com/user/GrupoBME/\" title=\"YouTube\" target=\"_blank\" class=\"icon youtube\"></a>\\r\\n                            <a href=\"/bme-exchange/es/RSS\" title=\"RSS\" target=\"_self\" class=\"icon rss\"></a>\\r\\n                         </div>\\r\\n                    </div><div>\\r\\n                        <a class=\"Contacto mover overview-btn blue\" href=\"/bme-exchange/es/Contacto#Informacion-General\">CONTACTO</a>\\r\\n                    </div><div>\\r\\n                        <a href=\"/esp/Home\" target=\"_blank\"><img class=\"Logo\" src=\"/bme-exchange/images/base/LogoBMEInv.svg?v=Six\" alt=\"Logo Bolsas y Mercados Españoles\" /></a>\\r\\n                    </div>\\r\\n                </div>\\r\\n            </div></div>\\r\\n        </div>\\r\\n        <div id=\"FranjaPie\">\\r\\n            <ul class=\"list-inline\">\\r\\n                <li>Copyright® BME 2023</li>\\r\\n<li><a href=\"/bme-exchange/es/Disclaimer\" target=\"_self\">Disclaimer</a></li>\\r\\n<li><a href=\"/bme-exchange/es/privacidad/Politica-de-Privacidad\" target=\"_self\">Política de Privacidad</a></li>\\r\\n<li><a href=\"/bme-exchange/es/Politica-de-cookies\" target=\"_self\">Política de cookies</a></li>\\r\\n<li><a href=\"/bme-exchange/es/privacidad/Aviso-Legal\" target=\"_self\">Aviso legal</a></li>\\r\\n<li><a href=\"/bme-exchange/es/Mapa-Web\" target=\"_self\">Mapa Web</a></li>\\r\\n\\r\\n            </ul>\\r\\n        </div>\\r\\n        <div id=\"testXS\" class=\"visible-xs-block\"></div>\\r\\n    </footer>\\r\\n    <footer id=\"UrlPrint\" class=\"visible-print-block\">\\r\\n        <div class=\"container\"><div class=\"row\">\\r\\n            <div class=\"col-xs-6\">Copyright® BME 2023</div>\\r\\n            <div class=\"col-xs-6 text-right\">[ https://www.bolsasymercados.es/bme-exchange/ ]</div>\\r\\n        </div></div>\\r\\n    </footer>\\r\\n</body>\\r\\n</html>\\r\\n'"
      ]
     },
     "execution_count": 214,
     "metadata": {},
     "output_type": "execute_result"
    }
   ],
   "source": [
    "page_b = requests.get(url_bolsa)\n",
    "page_b.text"
   ]
  },
  {
   "cell_type": "code",
   "execution_count": 209,
   "metadata": {},
   "outputs": [
    {
     "name": "stdout",
     "output_type": "stream",
     "text": [
      "\n",
      "<!DOCTYPE html>\n",
      "\n",
      "<html lang=\"es\">\n",
      "<head data-app-path=\"/bme-exchange\" data-hora-act=\"Sat, 22 Apr 2023 14:31:26 GMT\" data-idioma=\"es\"><meta charset=\"utf-8\"/><meta content=\"IE=edge\" http-equiv=\"X-UA-Compatible\"/><meta content=\"width=device-width, initial-scale=1\" name=\"viewport\"/><meta content=\"text/html; charset=utf-8\" http-equiv=\"Content-Type\"/><meta content=\"Copyright © BME 2023\" id=\"copyright\" name=\"copyright\"/><meta content=\"BME Exchange\" property=\"og:site_name\"/><meta content=\"es\" property=\"og:locale\"/><meta content=\"website\" property=\"og:type\"/><meta content=\"summary_large_image\" property=\"twitter:card\"/><meta content=\"@GrupoBME\" property=\"twitter:site\"/><meta content=\"Resumen de Índices | BME Exchange\" property=\"og:title\"/><meta content=\"Resumen de Índices | BME Exchange\" property=\"twitter:title\"/><meta content=\"https://www.bolsasymercados.es/bme-exchange/es/Indices/Resumen\" property=\"og:url\"/><meta content=\"https://www.bolsasymercados.es/bme-exchange/es/Indices/Resumen\" property=\"twitter:url\"/><link href=\"https://www.bolsasymercados.es/bme-exchange/es/Indices/Resumen\" id=\"CanonicalLink\" rel=\"canonical\"/><link href=\"https://www.bolsasymercados.es/bme-exchange/es/Indices/Resumen\" hreflang=\"es\" rel=\"alternate\"/><link href=\"/bme-exchange/en/Indices/Summary\" hreflang=\"en\" rel=\"alternate\"/><link href=\"//use.typekit.net/fag2lie.css\" rel=\"stylesheet\"/><script defer=\"\" src=\"/bme-exchange/js/Master?v=X6xj-2AlmMQtfRPQnNdB9dd66gbf1t3iVmzg-Ty14g01\"></script>\n",
      "<link href=\"/bme-exchange/css/css?v=SemdazjV3SvQk8aAWz95nsG1XFDt_x1jK3Hvk9UF7YE1\" rel=\"stylesheet\"/>\n",
      "<!-- OneTrust -->\n",
      "<script charset=\"UTF-8\" data-document-language=\"true\" data-domain-script=\"848a4ce2-ee9d-424b-8508-fbc5b12c4591\" src=\"https://cdn.cookielaw.org/scripttemplates/otSDKStub.js\" type=\"text/javascript\"></script>\n",
      "<!-- End OneTrust -->\n",
      "<!-- Google Tag Manager -->\n",
      "<script id=\"GTM\">(function(w,d,s,l,i){w[l]=[{'pageLanguage':'es','service':'bme-exchange','target':'institutional-investor,brokers-and-intermediaries,hedge-funds,market-members,listed-companies,retail,media,stake-holders,general-public-others','bussinessTopic':'listing,trading,market-prices,indices','pagePurpose':'increase-awareness'}];const g=document.cookie.match(/_ga=(.+?);/);g&&w[l].push({gaClientId:g[1].split('.').slice(-2).join('.')});w[l].push({'gtm.start':new Date().getTime(),event:'gtm.js'});var f=d.getElementsByTagName(s)[0],j=d.createElement(s),dl=l!='dataLayer'?'&l='+l:'';j.async=true;j.src='https://www.googletagmanager.com/gtm.js?id='+i+dl+'';f.parentNode.insertBefore(j,f);})(window,document,'script','dataLayer','GTM-TJNWXNT');</script>\n",
      "<!-- End Google Tag Manager -->\n",
      "<title>\n",
      "\tResumen de Índices | BME Exchange\n",
      "</title><script defer=\"defer\" language=\"javascript\" src=\"/bme-exchange/js/React/indices-summary/app.min.js?eJpeKw!!\" type=\"text/javascript\"></script></head>\n",
      "<body id=\"se_top\">\n",
      "<!-- Google Tag Manager (noscript) -->\n",
      "<noscript><iframe height=\"0\" src=\"https://www.googletagmanager.com/ns.html?id=GTM-TJNWXNT\" style=\"display:none;visibility:hidden\" width=\"0\"></iframe></noscript>\n",
      "<!-- End Google Tag Manager (noscript) -->\n",
      "<svg class=\"hidden\" xmlns=\"http://www.w3.org/2000/svg\"><symbol height=\"40\" id=\"cross-icon\" viewbox=\"0 0 40 40\" width=\"40\"><g transform=\"translate(11 11)\"><line class=\"a\" x1=\"18\" y2=\"18\"></line><line class=\"a\" transform=\"translate(18 0) rotate(90)\" x1=\"18\" y2=\"18\"></line></g><g><circle class=\"b\" cx=\"20\" cy=\"20\" r=\"18\"></circle></g></symbol><symbol height=\"28\" id=\"search-icon\" viewbox=\"0 0 18.2 28\" width=\"18.2\"><g transform=\"translate(0 5)\"><circle class=\"c\" cx=\"8\" cy=\"8\" r=\"7.2\"></circle><line class=\"c\" x1=\"13.8\" x2=\"16.5\" y1=\"13.8\" y2=\"16.5\"></line></g></symbol><symbol height=\"28\" id=\"private-icon\" viewbox=\"0 0 15.3 28\" width=\"15.3\"><g transform=\"translate(0 5)\"><path class=\"c\" d=\"M1.3,9.2c0-0.8,0.7-1.5,1.5-1.5h10c0.8,0,1.5,0.7,1.5,1.5v6.4c0,0.8-0.7,1.5-1.5,1.5h-10 c-0.8,0-1.5-0.7-1.5-1.5V9.2z M3.3,6.3V4.4C3.3,2,5.3,0,7.7,0c2.4,0,4.4,2,4.4,4.4v1.9\"></path><line class=\"c\" x1=\"7.7\" x2=\"7.7\" y1=\"10.2\" y2=\"15.1\"></line></g></symbol><symbol height=\"28\" id=\"mail-icon\" viewbox=\"0 0 21 28\" width=\"21\"><g transform=\"translate(0 5)\"><rect class=\"c\" height=\"13.5\" width=\"19.5\" x=\"0.8\" y=\"2.8\"></rect><path class=\"c\" d=\"M1.2,3l9.4,8.6l9.3-8.9L1.2,3z\"></path></g></symbol></svg>\n",
      "<a href=\"#main-content\" id=\"skip-nav-link\" tabindex=\"1\">Saltar Navegación</a>\n",
      "<header id=\"Cabecera\">\n",
      "<nav aria-label=\"Navegación web corporativa\" class=\"hidden-print\" role=\"navigation\">\n",
      "<div class=\"corporate-web collapse\" id=\"corporate-web-menu\"><div class=\"container\"><div class=\"row\">\n",
      "<div>\n",
      "<a class=\"bme-brand\" href=\"/esp/Home\" tabindex=\"8\" target=\"_blank\" title=\"Web Corporativa BME\">\n",
      "<img alt=\"Logo BME\" aria-hidden=\"true\" src=\"/bme-exchange/images/base/Logo.svg\"/>\n",
      "<span class=\"corporate-web-btn\">Web Corporativa<span class=\"glyphicon glyphicon-menu-right\"></span></span>\n",
      "</a>\n",
      "<ul class=\"nav navbar-nav bme-menu\">\n",
      "<li><a href=\"/esp/Sobre-BME\" tabindex=\"9\" target=\"_blank\">Sobre<br/>BME</a></li><li><a href=\"/esp/Informacion-Corporativa\" tabindex=\"10\" target=\"_blank\">Información<br/>Corporativa</a></li><li><a href=\"/esp/Sala-Comunicacion\" tabindex=\"11\" target=\"_blank\">Sala de<br/>Comunicación</a></li><li><a href=\"/esp/Estudios-Publicaciones\" tabindex=\"12\" target=\"_blank\">Publicaciones y<br/>Estadísticas</a></li><li><a href=\"/esp/Sostenibilidad\" tabindex=\"13\" target=\"_blank\">Sostenibilidad</a></li><li><a href=\"/esp/Formacion\" tabindex=\"14\" target=\"_blank\">Formación<br/>Instituto BME</a></li>\n",
      "</ul>\n",
      "<a class=\"bme-close\" data-toggle=\"collapse\" href=\"#corporate-web-menu\" role=\"button\">\n",
      "<svg height=\"40\" viewbox=\"0 0 40 40\" width=\"40\"><use href=\"#cross-icon\" xlink:href=\"cross-icon\"></use></svg>\n",
      "<span class=\"sr-only\">Cerrar</span>\n",
      "</a>\n",
      "</div>\n",
      "<div class=\"flecha-dropdown\"><div></div><div></div></div>\n",
      "</div></div></div>\n",
      "</nav>\n",
      "<nav aria-label=\"Navegación principal\" class=\"navbar\" id=\"menu-superior\" role=\"navigation\"><div class=\"container\">\n",
      "<div class=\"navbar-header\">\n",
      "<a class=\"navbar-brand\" href=\"/bme-exchange/es/Home\" tabindex=\"2\" target=\"_self\" title=\"BME Exchange\">\n",
      "<img alt=\"BME Logo\" aria-hidden=\"true\" src=\"/bme-exchange/images/base/Logo.svg\"/>\n",
      "</a>\n",
      "<strong class=\"navbar-claim\">La Bolsa es ahora BME Exchange</strong>\n",
      "<ul class=\"nav navbar-nav navbar-right icon-menu-superior hidden-print\" id=\"top-menu-movil\">\n",
      "<li class=\"btn-return\">\n",
      "<button id=\"btn-return-main\" role=\"button\" type=\"button\">Menú Principal</button>\n",
      "</li>\n",
      "<li class=\"btn-menu\">\n",
      "<button aria-expanded=\"false\" class=\"collapsed\" data-target=\"#navbar-menu\" data-toggle=\"collapse\" role=\"button\" type=\"button\">\n",
      "<span class=\"icon-bar\"></span>\n",
      "<span class=\"icon-bar\"></span>\n",
      "<span class=\"icon-bar\"></span>\n",
      "</button>\n",
      "</li>\n",
      "<li class=\"btn-icon dropdown\">\n",
      "<a data-toggle=\"dropdown\" href=\"#\" role=\"button\" tabindex=\"3\">\n",
      "<svg height=\"28\" viewbox=\"0 0 18.2 28\" width=\"18.2\"><use href=\"#search-icon\" xlink:href=\"search-icon\"></use></svg>\n",
      "<span class=\"sr-only\">Buscador</span>\n",
      "</a>\n",
      "<div class=\"header-popover\" id=\"search\">\n",
      "<div class=\"header-popover-flecha\"><div></div><div></div></div>\n",
      "<div class=\"header-popover-title\">\n",
      "<svg height=\"28\" viewbox=\"0 0 18.2 28\" width=\"18.2\"><use href=\"#search-icon\" xlink:href=\"search-icon\"></use></svg>\n",
      "<span>BUSCADOR</span>\n",
      "</div>\n",
      "<div class=\"header-popover-line\">\n",
      "<form action=\"/bme-exchange/es/Buscar\" aria-label=\"\" role=\"search\">\n",
      "<label for=\"search-text\">BUSCAR</label>\n",
      "<div class=\"form-group\">\n",
      "<input autocomplete=\"off\" class=\"form-control\" id=\"search-text\" name=\"q\" placeholder=\"Introducir texto a buscar\" type=\"text\"/>\n",
      "<button class=\"header-popover-btn\" type=\"submit\"><span>Buscar</span><span class=\"glyphicon glyphicon-menu-right\"></span></button>\n",
      "</div>\n",
      "</form>\n",
      "</div>\n",
      "<div class=\"header-popover-line\">\n",
      "<form action=\"/bme-exchange/es/Mercados-y-Cotizaciones/Acciones/Mercado-Continuo/Busqueda-Empresas\" aria-label=\"\" role=\"search\">\n",
      "<label for=\"search-company\">BUSCADOR DE EMPRESAS</label>\n",
      "<div class=\"form-group\">\n",
      "<input aria-label=\"Introducir nombre, ISIN o ticker a buscar\" autocomplete=\"off\" class=\"form-control\" data-apì=\"https://www.bolsasymercados.es/API/Market\" data-url=\"/bme-exchange/\" id=\"search-company\" name=\"q\" placeholder=\"Nombre / ISIN / Ticker\" type=\"text\"/>\n",
      "<button class=\"header-popover-btn\" type=\"submit\"><span>Buscar</span><span class=\"glyphicon glyphicon-menu-right\"></span></button>\n",
      "</div>\n",
      "</form>\n",
      "</div>\n",
      "</div>\n",
      "</li>\n",
      "<li class=\"btn-icon dropdown\">\n",
      "<a data-toggle=\"dropdown\" href=\"#\" role=\"button\" tabindex=\"4\">\n",
      "<svg height=\"28\" viewbox=\"0 0 15.3 28\" width=\"15.3\"><use href=\"#private-icon\" xlink:href=\"private-icon\"></use></svg>\n",
      "<span class=\"sr-only\">Áreas Privadas</span>\n",
      "</a>\n",
      "<div class=\"header-popover\" id=\"private\">\n",
      "<div class=\"header-popover-flecha\"><div></div><div></div></div>\n",
      "<div class=\"header-popover-title\">\n",
      "<svg height=\"28\" viewbox=\"0 0 15.3 28\" width=\"15.3\"><use href=\"#private-icon\" xlink:href=\"private-icon\"></use></svg>\n",
      "<span>ÁREAS PRIVADAS</span>\n",
      "</div>\n",
      "<div class=\"header-popover-line header-popover-login-line\"><label>MIEMBROS RENTA VARIABLE</label><a class=\"header-popover-btn\" href=\"https://privada.bmerv.es/\" target=\"_blank\">Login<span class=\"glyphicon glyphicon-menu-right\"></span></a></div><div class=\"header-popover-line header-popover-login-line\"><label>BME GROWTH</label><a class=\"header-popover-btn\" href=\"https://www.bmegrowth.es/Privado/LogIn.aspx\" target=\"_blank\">Login<span class=\"glyphicon glyphicon-menu-right\"></span></a></div><div class=\"header-popover-line header-popover-login-line\"><label>MIEMBROS RENTA FIJA</label><a class=\"header-popover-btn\" href=\"https://ww2.aiaf.es/\" target=\"_blank\">Login<span class=\"glyphicon glyphicon-menu-right\"></span></a></div>\n",
      "</div>\n",
      "</li>\n",
      "<li class=\"btn-icon\">\n",
      "<a href=\"/bme-exchange/es/Contacto#Informacion-General\" tabindex=\"5\">\n",
      "<svg height=\"28\" viewbox=\"0 0 21 28\" width=\"21\"><use href=\"#mail-icon\" xlink:href=\"mail-icon\"></use></svg>\n",
      "<span class=\"sr-only\">Contacto</span>\n",
      "</a>\n",
      "</li>\n",
      "<li class=\"btn-language\">\n",
      "<span aria-hidden=\"true\" class=\"language-anchor\"> ES </span><b class=\"language-anchor\">|</b><a class=\"language-anchor\" href=\"/bme-exchange/en/Indices/Summary\" hreflang=\"en\" tabindex=\"6\"><span aria-hidden=\"true\"><strong> EN </strong></span><span class=\"sr-only\">English</span></a>\n",
      "</li>\n",
      "<li class=\"hidden-xs corporate-web-btn\">\n",
      "<a class=\"collapsed\" data-toggle=\"collapse\" href=\"#corporate-web-menu\" role=\"button\" tabindex=\"8\">\n",
      "<span><img alt=\"Logo BME\" aria-hidden=\"true\" src=\"/bme-exchange/images/base/FlechaBME.svg\"/></span>\n",
      "<span>BME<br/>CORPORATE</span>\n",
      "</a>\n",
      "</li>\n",
      "<li class=\"btn-menu-close\">\n",
      "<button id=\"close-menu\" role=\"button\" type=\"button\">\n",
      "<svg height=\"40\" viewbox=\"0 0 40 40\" width=\"40\"><use href=\"#cross-icon\" xlink:href=\"cross-icon\"></use></svg>\n",
      "<span class=\"sr-only\">Cerrar</span>\n",
      "</button>\n",
      "</li>\n",
      "</ul>\n",
      "</div>\n",
      "<div class=\"navbar-header hidden-print\">\n",
      "<ul class=\"nav navbar-nav collapse navbar-collapse op-menu-superior yamm\" id=\"navbar-menu\">\n",
      "<li class=\"dropdown\"><a aria-expanded=\"false\" aria-haspopup=\"true\" class=\"dropdown-toggle\" data-toggle=\"dropdown\" href=\"/bme-exchange/es/Como-Cotizar\" role=\"button\">Cotizar</a><div class=\"flecha-dropdown\"><div></div><div></div></div><ul class=\"dropdown-menu\"><li class=\"container-fluid\"><div class=\"row\"><a class=\"col-sm-12 dropdown-overview\" href=\"/bme-exchange/es/Como-Cotizar\" target=\"_self\"><span class=\"menu-overview-title\">Cotizar</span><span class=\"menu-overview-btn\">Descubre más<span class=\"glyphicon glyphicon-menu-right\"></span></span><span class=\"menu-overview-claim\">Financia tus ambiciones de crecimiento</span></a></div><div class=\"row menu-options\"><div class=\"col-sm-2\"><ul class=\"menu-list\"><li><a aria-expanded=\"false\" class=\"visible-xs-block collapsed\" data-toggle=\"collapse\" href=\"#menu24\">Acciones</a><div class=\"collapse mobile-menu-2\" id=\"menu24\"><div class=\"btn-return-2lv\"><button data-target=\"#menu24\" data-toggle=\"collapse\" role=\"button\" type=\"button\">Cotizar</button></div><a class=\"\" href=\"/bme-exchange/es/Como-Cotizar/Cotizar-en-Bolsa\" target=\"_self\">Acciones</a><ul><li><a class=\"\" href=\"/bme-exchange/es/Como-Cotizar/Bolsa/Como-salir-a-Bolsa\" target=\"_self\">Cotizar en Bolsa</a></li><li><a class=\"\" href=\"/bme-exchange/es/Como-Cotizar/Bolsa/BME-Growth\" target=\"_self\">Cotizar en BME Growth</a></li><li><a class=\"\" href=\"/bme-exchange/es/Como-Cotizar/Bolsa/Latibex\" target=\"_self\">Cotizar en Latibex</a></li></ul></div></li></ul></div><div class=\"col-sm-2\"><ul class=\"menu-list\"><li><a aria-expanded=\"false\" class=\"visible-xs-block collapsed\" data-toggle=\"collapse\" href=\"#menu28\">Renta Fija</a><div class=\"collapse mobile-menu-2\" id=\"menu28\"><div class=\"btn-return-2lv\"><button data-target=\"#menu28\" data-toggle=\"collapse\" role=\"button\" type=\"button\">Cotizar</button></div><a class=\"\" href=\"/bme-exchange/es/Como-Cotizar/Renta-Fija\" target=\"_self\">Renta Fija</a><ul><li><a class=\"\" href=\"/bme-exchange/es/Como-Cotizar/Renta-Fija/AIAF\" target=\"_self\">Mercados Regulados - AIAF</a></li><li><a class=\"\" href=\"/bme-exchange/es/Como-Cotizar/Renta-Fija/MARF\" target=\"_self\">Mercado Alternativo - MARF</a></li></ul></div></li></ul></div><div class=\"col-sm-2\"><ul class=\"menu-list\"><li><a class=\"\" href=\"/bme-exchange/es/Como-Cotizar/ETFs\" target=\"_self\">ETFs</a></li></ul></div><div class=\"col-sm-2\"><ul class=\"menu-list\"><li><a class=\"\" href=\"/bme-exchange/es/Como-Cotizar/Warrants\" target=\"_self\">Warrants</a></li></ul></div><div class=\"col-sm-2\"><ul class=\"menu-list\"><li><a class=\"\" href=\"https://www.meff.es/esp/Sobre-Nosotros/Empresa-MEFF\" target=\"_blank\">Derivados</a></li></ul></div><div class=\"col-sm-2\"><ul class=\"menu-list\"><li><a class=\"\" href=\"https://www.bolsasymercados.es/BME_4Companies/esp/Home\" target=\"_blank\">Servicios para Emisores</a></li></ul></div></div></li></ul></li><li class=\"dropdown\"><a aria-expanded=\"false\" aria-haspopup=\"true\" class=\"dropdown-toggle\" data-toggle=\"dropdown\" href=\"/bme-exchange/es/Negociar\" role=\"button\">Negociar</a><div class=\"flecha-dropdown\"><div></div><div></div></div><ul class=\"dropdown-menu\"><li class=\"container-fluid\"><div class=\"row\"><a class=\"col-sm-12 dropdown-overview\" href=\"/bme-exchange/es/Negociar\" target=\"_self\"><span class=\"menu-overview-title\">Negociar</span><span class=\"menu-overview-btn\">Descubre más<span class=\"glyphicon glyphicon-menu-right\"></span></span><span class=\"menu-overview-claim\">Calidad de mercado en la que confiar</span></a></div><div class=\"row menu-options\"><div class=\"col-sm-2\"><ul class=\"menu-list\"><li><a aria-expanded=\"false\" class=\"visible-xs-block collapsed\" data-toggle=\"collapse\" href=\"#menu42\">Mercados</a><div class=\"collapse mobile-menu-2\" id=\"menu42\"><div class=\"btn-return-2lv\"><button data-target=\"#menu42\" data-toggle=\"collapse\" role=\"button\" type=\"button\">Negociar</button></div><a class=\"\" href=\"/bme-exchange/es/Negociar/Mercados\" target=\"_self\">Mercados</a><ul><li><a class=\"\" href=\"/bme-exchange/es/Negociar/Mercados/Renta-Variable\" target=\"_self\">Acciones</a></li><li><a class=\"\" href=\"/bme-exchange/es/Negociar/Mercados/Renta-Fija\" target=\"_self\">Renta Fija</a></li><li><a class=\"\" href=\"/bme-exchange/es/Negociar/Mercados/ETFs\" target=\"_self\">ETFs</a></li><li><a class=\"\" href=\"/bme-exchange/es/Negociar/Mercados/Warrants\" target=\"_self\">Warrants</a></li><li><a class=\"\" href=\"/bme-exchange/es/Negociar/Mercados/Derivados\" target=\"_self\">Derivados</a></li></ul></div></li></ul></div><div class=\"col-sm-2\"><ul class=\"menu-list\"><li><a aria-expanded=\"false\" class=\"visible-xs-block collapsed\" data-toggle=\"collapse\" href=\"#menu63\">Participantes de Mercado</a><div class=\"collapse mobile-menu-2\" id=\"menu63\"><div class=\"btn-return-2lv\"><button data-target=\"#menu63\" data-toggle=\"collapse\" role=\"button\" type=\"button\">Negociar</button></div><a class=\"\" href=\"/bme-exchange/es/Negociar/Participantes-y-Miembros-de-Mercado\" target=\"_self\">Participantes de Mercado</a><ul><li><a class=\"\" href=\"/bme-exchange/es/Negociar/Participantes/Listado-de-Participantes-y-Miembros-de-Mercado\" target=\"_self\">Miembros</a></li><li><a class=\"\" href=\"/bme-exchange/es/Negociar/Participantes/Servicios-para-Participantes\" target=\"_self\">Servicios para Participantes</a></li></ul></div></li></ul></div><div class=\"col-sm-2\"><ul class=\"menu-list\"><li><a aria-expanded=\"false\" class=\"visible-xs-block collapsed\" data-toggle=\"collapse\" href=\"#menu75\">Plataforma de Negociación</a><div class=\"collapse mobile-menu-2\" id=\"menu75\"><div class=\"btn-return-2lv\"><button data-target=\"#menu75\" data-toggle=\"collapse\" role=\"button\" type=\"button\">Negociar</button></div><a class=\"\" href=\"/bme-exchange/es/Negociar/Plataforma-de-Negociacion\" target=\"_self\">Plataforma de Negociación</a><ul><li><a class=\"\" href=\"/bme-exchange/es/Negociar/Plataforma-de-Negociacion/SIBE-SMART-Acciones\" target=\"_self\">SIBE SMART (Acciones - Warrants - ETFs)</a></li><li><a class=\"\" href=\"/bme-exchange/es/Negociar/Plataforma-de-Negociacion/SEND-SENAF\" target=\"_self\">SEND - SENAF (Renta Fija)</a></li><li><a class=\"\" href=\"https://www.meff.es/esp/Tecnologia/Formas-Conexion\" target=\"_blank\">MEFF-SMART (Derivados)</a></li></ul></div></li></ul></div></div></li></ul></li><li class=\"dropdown\"><a aria-expanded=\"false\" aria-haspopup=\"true\" class=\"dropdown-toggle active\" data-toggle=\"dropdown\" href=\"/bme-exchange/es/Indices\" role=\"button\">Índices</a><div class=\"flecha-dropdown\"><div></div><div></div></div><ul class=\"dropdown-menu\"><li class=\"container-fluid\"><div class=\"row\"><a class=\"col-sm-12 dropdown-overview active\" href=\"/bme-exchange/es/Indices\" target=\"_self\"><span class=\"menu-overview-title\">Índices</span><span class=\"menu-overview-btn\">Descubre más<span class=\"glyphicon glyphicon-menu-right\"></span></span><span class=\"menu-overview-claim\">Índices de BME. Las principales referencias de los mercados españoles</span></a></div><div class=\"row menu-options\"><div class=\"col-sm-2\"><ul class=\"menu-list\"><li><a class=\"active sel\" href=\"/bme-exchange/es/Indices/Resumen\" target=\"_self\">Resumen de Índices</a></li></ul><ul class=\"menu-list\"><li><a class=\"\" href=\"/bme-exchange/es/Indices/Avisos\" target=\"_self\">Avisos</a></li></ul><ul class=\"menu-list\"><li><a class=\"\" href=\"/bme-exchange/es/Indices/Regulacion\" target=\"_self\">Regulación Índices</a></li></ul><ul class=\"menu-list\"><li><a class=\"\" href=\"/bme-exchange/es/Indices/Comite-Asesor-Tecnico/Comite-Asesor-Tecnico\" target=\"_self\">Comité Asesor Técnico</a></li></ul></div><div class=\"col-sm-2\"><ul class=\"menu-list\"><li><a class=\"\" href=\"/bme-exchange/es/Indices/Ibex\" target=\"_self\">Índices IBEX</a></li></ul></div><div class=\"col-sm-2\"><ul class=\"menu-list\"><li><a class=\"\" href=\"/bme-exchange/es/indices/ESG\" target=\"_self\">Índices ESG</a></li></ul></div><div class=\"col-sm-2\"><ul class=\"menu-list\"><li><a class=\"\" href=\"/bme-exchange/es/Indices/Bolsas\" target=\"_self\">Índices Bolsas</a></li></ul></div><div class=\"col-sm-2\"><ul class=\"menu-list\"><li><a class=\"\" href=\"/bme-exchange/es/Indices/Latibex\" target=\"_self\">Índices Latibex</a></li></ul></div><div class=\"col-sm-2\"><ul class=\"menu-list\"><li><a class=\"\" href=\"/bme-exchange/es/Indices/Renta-Fija\" target=\"_self\">Índices Renta Fija</a></li></ul></div></div></li></ul></li><li class=\"dropdown\"><a aria-expanded=\"false\" aria-haspopup=\"true\" class=\"dropdown-toggle\" data-toggle=\"dropdown\" href=\"/bme-exchange/es/Mercados-y-Cotizaciones\" role=\"button\">Mercados y Cotizaciones</a><div class=\"flecha-dropdown\"><div></div><div></div></div><ul class=\"dropdown-menu\"><li class=\"container-fluid\"><div class=\"row\"><a class=\"col-sm-12 dropdown-overview\" href=\"/bme-exchange/es/Mercados-y-Cotizaciones\" target=\"_self\"><span class=\"menu-overview-title\">Mercados y Cotizaciones</span><span class=\"menu-overview-btn\">Descubre más<span class=\"glyphicon glyphicon-menu-right\"></span></span><span class=\"menu-overview-claim\">La clave para el éxito de cualquier decisión de inversión</span></a></div><div class=\"row menu-options\"><div class=\"col-sm-2\"><ul class=\"menu-list\"><li><a aria-expanded=\"false\" class=\"visible-xs-block collapsed\" data-toggle=\"collapse\" href=\"#menu135\">Acciones</a><div class=\"collapse mobile-menu-2\" id=\"menu135\"><div class=\"btn-return-2lv\"><button data-target=\"#menu135\" data-toggle=\"collapse\" role=\"button\" type=\"button\">Mercados y Cotizaciones</button></div><a class=\"\" href=\"/bme-exchange/es/Mercados-y-Cotizaciones/Acciones/Mercado-Continuo/Precios/ibex-35-ES0SI0000005\" target=\"_self\">Acciones</a><ul><li><span>Mercado Principal</span><ul><li><a class=\"\" href=\"/bme-exchange/es/Mercados-y-Cotizaciones/Acciones/Mercado-Continuo/Precios/ibex-35-ES0SI0000005\" target=\"_self\">Precios</a></li><li><a class=\"\" href=\"/bme-exchange/es/Mercados-y-Cotizaciones/Acciones/Mercado-Continuo/Empresas-Cotizadas\" target=\"_self\">Empresas Cotizadas</a></li><li><a class=\"\" href=\"/bme-exchange/es/Mercados-y-Cotizaciones/Acciones/Mercado-Continuo/Ultima-Informacion-Privilegiada\" target=\"_self\">Información Privilegiada/Otra información relevante</a></li><li><a class=\"\" href=\"/bme-exchange/es/Mercados-y-Cotizaciones/Acciones/Mercado-Continuo/Operaciones-Financieras\" target=\"_self\">Operaciones Financieras</a></li></ul></li><li><a class=\"\" href=\"https://www.latibex.com/esp/Cotizaciones/Acciones\" target=\"_blank\">Latibex</a></li><li><a class=\"\" href=\"https://www.bmegrowth.es/esp/Precios.aspx\" target=\"_blank\">BME Growth</a></li><li><a class=\"\" href=\"https://www.bolsasymercados.es/MTF_Equity/esp/SICAV/Precios.aspx?mercado=ValorLiquidativo\" target=\"_blank\">BME MTF Equity</a></li><li><span>Herramientas</span><ul><li><a class=\"\" href=\"/bme-exchange/es/Mercados-y-Cotizaciones/Acciones/Analisis-y-Herramientas/Analisis-de-empresas/Lighthouse\" target=\"_self\">Análisis Lighthouse Acciones</a></li><li><a class=\"\" href=\"/bme-exchange/es/Mercados-y-Cotizaciones/Acciones/Analisis-y-Herramientas/Analisis-de-empresas/Morningstar/ibex-Medium\" target=\"_self\">Analisis Morningstar Acciones</a></li><li><a class=\"\" href=\"/bme-exchange/es/Negociar/Agenda\" target=\"_self\">Agenda del Inversor</a></li><li><a class=\"\" href=\"/bme-exchange/es/Mercados-y-Cotizaciones/Acciones/Analisis-y-Herramientas/Mi-Cartera\" target=\"_self\">Mi Cartera</a></li></ul></li></ul></div></li></ul></div><div class=\"col-sm-2\"><ul class=\"menu-list\"><li><a aria-expanded=\"false\" class=\"visible-xs-block collapsed\" data-toggle=\"collapse\" href=\"#menu205\">Renta Fija</a><div class=\"collapse mobile-menu-2\" id=\"menu205\"><div class=\"btn-return-2lv\"><button data-target=\"#menu205\" data-toggle=\"collapse\" role=\"button\" type=\"button\">Mercados y Cotizaciones</button></div><a class=\"\" href=\"/bme-exchange/es/Mercados-y-Cotizaciones/Renta-Fija/Precios/AIAF-SEND-Deuda-Publica\" target=\"_self\">Renta Fija</a><ul><li><a class=\"\" href=\"/bme-exchange/es/Mercados-y-Cotizaciones/Renta-Fija/Precios/AIAF-SEND-Deuda-Publica\" target=\"_self\">Precios</a></li><li><a class=\"\" href=\"/bme-exchange/es/Mercados-y-Cotizaciones/Renta-Fija/Emisiones-En-Circulacion\" target=\"_self\">Emisiones en circulación</a></li><li><a class=\"\" href=\"/bme-exchange/es/Mercados-y-Cotizaciones/Renta-Fija/Listado-de-Emisores\" target=\"_self\">Emisores</a></li><li><a class=\"\" href=\"/bme-exchange/es/Mercados-y-Cotizaciones/Renta-Fija/Admision-a-Cotizar/Ultimos-Desembolsos\" target=\"_self\">Admisiones a Cotización</a></li><li><a class=\"\" href=\"/bme-exchange/es/Mercados-y-Cotizaciones/Renta-Fija/Anuncios\" target=\"_self\">Anuncios emisiones</a></li><li><a class=\"\" href=\"/bme-exchange/es/Mercados-y-Cotizaciones/Renta-Fija/Noticias\" target=\"_self\">Noticias</a></li><li><a class=\"\" href=\"/bme-exchange/es/Mercados-y-Cotizaciones/Renta-Fija/MARF-Hechos-Relevantes\" target=\"_self\">MARF Hechos Relevantes</a></li><li><a class=\"\" href=\"/bme-exchange/es/Mercados-y-Cotizaciones/Renta-Fija/MARF-Informacion-Financiera\" target=\"_self\">MARF Información Financiera</a></li></ul></div></li></ul></div><div class=\"col-sm-2\"><ul class=\"menu-list\"><li><a aria-expanded=\"false\" class=\"visible-xs-block collapsed\" data-toggle=\"collapse\" href=\"#menu237\">ETFs</a><div class=\"collapse mobile-menu-2\" id=\"menu237\"><div class=\"btn-return-2lv\"><button data-target=\"#menu237\" data-toggle=\"collapse\" role=\"button\" type=\"button\">Mercados y Cotizaciones</button></div><a class=\"\" href=\"/bme-exchange/es/Mercados-y-Cotizaciones/ETFs/Cotizaciones\" target=\"_self\">ETFs</a><ul><li><a class=\"\" href=\"/bme-exchange/es/Mercados-y-Cotizaciones/ETFs/Cotizaciones\" target=\"_self\">Cotizaciones</a></li><li><a class=\"\" href=\"/bme-exchange/es/Mercados-y-Cotizaciones/ETFs/Cierre-Mercado\" target=\"_self\">Cierre de mercado</a></li><li><a class=\"\" href=\"/bme-exchange/es/Mercados-y-Cotizaciones/ETFs/Dividendos\" target=\"_self\">Dividendos</a></li><li><a class=\"\" href=\"/bme-exchange/es/Mercados-y-Cotizaciones/ETFs/Hechos-Relevantes\" target=\"_self\">Hechos Relevantes</a></li><li><a class=\"\" href=\"/bme-exchange/es/Mercados-y-Cotizaciones/ETFs/Herramientas/Mi-Cartera-de-ETFs?m=ETF\" target=\"_self\">Mi Cartera ETF</a></li></ul></div></li></ul></div><div class=\"col-sm-2\"><ul class=\"menu-list\"><li><a aria-expanded=\"false\" class=\"visible-xs-block collapsed\" data-toggle=\"collapse\" href=\"#menu246\">Warrants</a><div class=\"collapse mobile-menu-2\" id=\"menu246\"><div class=\"btn-return-2lv\"><button data-target=\"#menu246\" data-toggle=\"collapse\" role=\"button\" type=\"button\">Mercados y Cotizaciones</button></div><a class=\"\" href=\"/bme-exchange/es/Mercados-y-Cotizaciones/Warrants/Precios/Warrants\" target=\"_self\">Warrants</a><ul><li><a class=\"\" href=\"/bme-exchange/es/Mercados-y-Cotizaciones/Warrants/Precios/Warrants\" target=\"_self\">Cotizaciones</a></li><li><a class=\"\" href=\"/bme-exchange/es/Mercados-y-Cotizaciones/Warrants/Informes\" target=\"_self\">Informes</a></li><li><a class=\"\" href=\"/bme-exchange/es/Mercados-y-Cotizaciones/Warrants/Listado-de-valores\" target=\"_self\">Listado de valores</a></li><li><a class=\"\" href=\"/bme-exchange/es/Mercados-y-Cotizaciones/Warrants/Ajustes-Operaciones-Financieras\" target=\"_self\">Ajustes por Operaciones Financieras</a></li><li><a class=\"\" href=\"/bme-exchange/es/Mercados-y-Cotizaciones/Warrants/Admisiones\" target=\"_self\">Admisiones</a></li></ul></div></li></ul></div><div class=\"col-sm-2\"><ul class=\"menu-list\"><li><a class=\"\" href=\"https://www.meff.es/esp/Derivados-Financieros/Cotizaciones\" target=\"_blank\">Derivados</a></li></ul></div><div class=\"col-sm-2\"><ul class=\"menu-list\"><li><a class=\"\" href=\"/bme-exchange/es/Mercados-y-Cotizaciones/Estadisticas\" target=\"_self\">Estadísticas</a></li></ul><ul class=\"menu-list\"><li><a class=\"\" href=\"https://www.bmemarketdata.es/esp/\" target=\"_blank\">Market Data</a></li></ul></div></div></li></ul></li><li><a class=\"\" href=\"/bme-exchange/es/Regulacion/Buscador-Regulacion\" target=\"_self\">Regulación</a></li><li class=\"dropdown\"><a aria-expanded=\"false\" aria-haspopup=\"true\" class=\"dropdown-toggle\" data-toggle=\"dropdown\" href=\"/bme-exchange/es/Para-Inversores\" role=\"button\">Para inversores</a><div class=\"flecha-dropdown\"><div></div><div></div></div><ul class=\"dropdown-menu\"><li class=\"container-fluid\"><div class=\"row\"><a class=\"col-sm-12 dropdown-overview\" href=\"/bme-exchange/es/Para-Inversores\" target=\"_self\"><span class=\"menu-overview-title\">Para inversores</span><span class=\"menu-overview-btn\">Descubre más<span class=\"glyphicon glyphicon-menu-right\"></span></span><span class=\"menu-overview-claim\">Tecnología e innovación al servicio de los inversores</span></a></div><div class=\"row menu-options\"><div class=\"col-sm-2\"><ul class=\"menu-list\"><li><a class=\"\" href=\"/bme-exchange/es/Para-Inversores/Institucionales\" target=\"_self\">Institucionales</a></li></ul></div><div class=\"col-sm-2\"><ul class=\"menu-list\"><li><a class=\"\" href=\"/bme-exchange/es/Para-Inversores/Minoristas\" target=\"_self\">Minoristas</a></li></ul></div></div></li></ul></li><li><a class=\"\" href=\"/bme-exchange/es/Formacion\" target=\"_self\">Formación</a></li>\n",
      "<li class=\"bme-brand\">\n",
      "<a href=\"/esp/Home\" target=\"_blank\" title=\"Web Corporativa BME\">\n",
      "<img alt=\"Logo BME\" aria-hidden=\"true\" src=\"/bme-exchange/images/base/LogoBMEInv.svg\"/>\n",
      "<span class=\"corporate-web-btn\">Web Corporativa<span class=\"glyphicon glyphicon-menu-right\"></span></span>\n",
      "</a>\n",
      "</li>\n",
      "</ul>\n",
      "</div>\n",
      "</div></nav>\n",
      "</header>\n",
      "<div class=\"container\"><div class=\"row\"><div class=\"col-sm-12\">\n",
      "<ol class=\"breadcrumb hidden-print\" id=\"breadcrumbs\"><li><a href=\"/bme-exchange/es/Home\" target=\"_self\">Home</a></li><li><a href=\"/bme-exchange/es/Indices\" target=\"_self\">Índices</a></li><li class=\"active\"><a href=\"/bme-exchange/es/Indices/Resumen\" target=\"_self\">Resumen de Índices</a></li></ol>\n",
      "<script type=\"application/ld+json\">{\"@context\": \"http://schema.org\",\"@type\": \"BreadcrumbList\",\"itemListElement\":[{\"@type\": \"ListItem\",\"position\": 1,\"item\":{\"@id\": \"https://www.bolsasymercados.es/bme-exchange/es/Home\",\"name\": \"Home\"}},{\"@type\": \"ListItem\",\"position\": 2,\"item\":{\"@id\": \"https://www.bolsasymercados.es/bme-exchange/es/Indices\",\"name\": \"Índices\"}},{\"@type\": \"ListItem\",\"position\": 3,\"item\":{\"@id\": \"https://www.bolsasymercados.es/bme-exchange/es/Indices/Resumen\",\"name\": \"Resumen de Índices\"}}]}</script>\n",
      "</div></div></div>\n",
      "<div class=\"container\"><div class=\"row\"><div class=\"col-lg-8 col-md-9 col-sm-10\">\n",
      "<h1>Resumen de Índices</h1>\n",
      "</div></div></div>\n",
      "<div class=\"container\"><div class=\"row\"><div class=\"col-sm-12\">\n",
      "</div></div></div>\n",
      "<div class=\"Contenido\">\n",
      "</div>\n",
      "<main class=\"Contenido\" id=\"main-content\">\n",
      "<div class=\"container\"><div class=\"row\"><div class=\"col-sm-12\"><div id=\"overlay\"></div><div id=\"root\"></div></div></div></div>\n",
      "</main>\n",
      "<div class=\"hidden-print home\" data-url=\"https://www.bolsasymercados.es/bme-exchange/es/Indices/Resumen\" id=\"AccionesPag\">\n",
      "<div class=\"links\">\n",
      "<a class=\"icon twitter\" href=\"#share_in_twitter\" title=\"Compartir en Twitter\"></a>\n",
      "<a class=\"icon whatsapp\" href=\"#share_in_whatsapp\" title=\"Enviar por WhatsApp\"></a>\n",
      "<a class=\"icon linkedin\" href=\"#share_in_linkedin\" title=\"Compartir en LinkedIn\"></a>\n",
      "<a class=\"icon facebook\" href=\"#share_in_facebook\" title=\"Compartir en Facebook\"></a>\n",
      "<a class=\"icon email sep\" href=\"#share_in_mail\" title=\"Enviar por email\"></a>\n",
      "<a class=\"icon print sep\" href=\"#share_in_print\" title=\"Imprimir\"></a>\n",
      "</div><a class=\"tirador\" href=\"#share_in_open\">\n",
      "<span aria-hidden=\"true\" class=\"glyphicon\"></span>\n",
      "</a>\n",
      "</div>\n",
      "<a class=\"hidden-print hidden\" href=\"#top\" id=\"VolverInicio\" target=\"_self\"><span aria-hidden=\"true\" class=\"glyphicon glyphicon-chevron-up\"></span></a>\n",
      "<footer class=\"hidden-print\" id=\"Pie\">\n",
      "<div id=\"LinksPie\">\n",
      "<div class=\"container\"><div class=\"row\">\n",
      "<div class=\"col-lg-7 col-md-12 links\">\n",
      "<div><div class=\"titulo-col-pie\"><span>MERCADO</span></div><ul><li><a href=\"/bme-exchange/es/Negociar/Calendario-Mercado\" target=\"_self\">Calendario de Mercado</a></li>\n",
      "<li><a href=\"/bme-exchange/es/Negociar/Horario-Mercado\" target=\"_self\">Horario de Mercado</a></li>\n",
      "<li><a href=\"/bme-exchange/es/Market-Status\" target=\"_self\">Estado del Mercado</a></li>\n",
      "<li><a href=\"/bme-exchange/es/Negociar/Mercados/Renta-Variable/MIFID-II/Informes-Best-Execution\" target=\"_self\">MiFID II Renta Variable</a></li>\n",
      "<li><a href=\"/bme-exchange/es/Negociar/Mercados/Renta-Fija/MIFID-II/Informes-Best-Execution\" target=\"_self\">MiFID II Renta Fija</a></li>\n",
      "<li><a href=\"https://www.meff.es/esp/MIFID-II\" target=\"_blank\">MiFID II Derivados</a></li>\n",
      "</ul></div><div><div class=\"titulo-col-pie\"><span>LINKS RÁPIDOS</span></div><ul><li><a href=\"/bme-exchange/es/Mercados-y-Cotizaciones/Acciones/Mercado-Continuo/Precios/ibex-35-ES0SI0000005\" target=\"_self\">IBEX 35®</a></li>\n",
      "<li><a href=\"/bme-exchange/es/Mercados-y-Cotizaciones/Acciones/Mercado-Continuo/Operaciones-Financieras/Dividendos\" target=\"_self\">Dividendos</a></li>\n",
      "<li><a href=\"/bme-exchange/es/Negociar/Agenda\" target=\"_self\">Agenda del Inversor</a></li>\n",
      "<li><a href=\"/bme-exchange/es/Mercados-y-Cotizaciones/Acciones/Analisis-y-Herramientas/Mi-Cartera\" target=\"_self\">Mi Cartera</a></li>\n",
      "<li><a href=\"/bme-exchange/es/Mercados-y-Cotizaciones/Estadisticas/Boletines-Informes\" target=\"_self\">Boletines de cotización</a></li>\n",
      "<li><a href=\"/bme-exchange/es/Mercados-y-Cotizaciones/Estadisticas\" target=\"_self\">Estadísticas</a></li>\n",
      "</ul></div><div><div class=\"titulo-col-pie\"><span>SERVICIOS</span></div><ul><li><a href=\"https://www.bolsasymercados.es/BME_4Companies\" target=\"_blank\">BME 4Companies</a></li>\n",
      "<li><a href=\"https://www.bmeregulatoryservices.es\" target=\"_blank\">BME Regulatory Services</a></li>\n",
      "<li><a href=\"/bme-exchange/es/Negociar/Participantes/Servicios-para-Participantes\" target=\"_self\">Servicios para intermediarios</a></li>\n",
      "<li><a href=\"https://www.bmemarketdata.es\" target=\"_blank\">Market Data</a></li>\n",
      "<li><a href=\"/bme-exchange/es/Espacios-Corporativos\" target=\"_self\">Espacios para Eventos Corporativos</a></li>\n",
      "<li><a href=\"https://www.bolsasymercados.es/esp/Sala-Comunicacion\" target=\"_blank\">Sala de Comunicación BME</a></li>\n",
      "</ul></div>\n",
      "</div><div class=\"col-lg-5 col-md-12 siguenos\">\n",
      "<div>\n",
      "<div class=\"titulo-col-pie\"><span>SÍGUENOS:</span></div>\n",
      "<div class=\"RRSS\">\n",
      "<a class=\"icon twitter\" href=\"https://twitter.com/GrupoBME\" target=\"_blank\" title=\"Twitter\"></a>\n",
      "<a class=\"icon flickr\" href=\"https://www.flickr.com/photos/archivobme/\" target=\"_blank\" title=\"Flickr\"></a>\n",
      "<a class=\"icon linkedin\" href=\"https://www.linkedin.com/company/grupo-bme\" target=\"_blank\" title=\"LinkedIn\"></a>\n",
      "<a class=\"icon youtube\" href=\"https://www.youtube.com/user/GrupoBME/\" target=\"_blank\" title=\"YouTube\"></a>\n",
      "<a class=\"icon rss\" href=\"/bme-exchange/es/RSS\" target=\"_self\" title=\"RSS\"></a>\n",
      "</div>\n",
      "</div><div>\n",
      "<a class=\"Contacto mover overview-btn blue\" href=\"/bme-exchange/es/Contacto#Informacion-General\">CONTACTO</a>\n",
      "</div><div>\n",
      "<a href=\"/esp/Home\" target=\"_blank\"><img alt=\"Logo Bolsas y Mercados Españoles\" class=\"Logo\" src=\"/bme-exchange/images/base/LogoBMEInv.svg?v=Six\"/></a>\n",
      "</div>\n",
      "</div>\n",
      "</div></div>\n",
      "</div>\n",
      "<div id=\"FranjaPie\">\n",
      "<ul class=\"list-inline\">\n",
      "<li>Copyright® BME 2023</li>\n",
      "<li><a href=\"/bme-exchange/es/Disclaimer\" target=\"_self\">Disclaimer</a></li>\n",
      "<li><a href=\"/bme-exchange/es/privacidad/Politica-de-Privacidad\" target=\"_self\">Política de Privacidad</a></li>\n",
      "<li><a href=\"/bme-exchange/es/Politica-de-cookies\" target=\"_self\">Política de cookies</a></li>\n",
      "<li><a href=\"/bme-exchange/es/privacidad/Aviso-Legal\" target=\"_self\">Aviso legal</a></li>\n",
      "<li><a href=\"/bme-exchange/es/Mapa-Web\" target=\"_self\">Mapa Web</a></li>\n",
      "</ul>\n",
      "</div>\n",
      "<div class=\"visible-xs-block\" id=\"testXS\"></div>\n",
      "</footer>\n",
      "<footer class=\"visible-print-block\" id=\"UrlPrint\">\n",
      "<div class=\"container\"><div class=\"row\">\n",
      "<div class=\"col-xs-6\">Copyright® BME 2023</div>\n",
      "<div class=\"col-xs-6 text-right\">[ https://www.bolsasymercados.es/bme-exchange/ ]</div>\n",
      "</div></div>\n",
      "</footer>\n",
      "</body>\n",
      "</html>\n",
      "\n"
     ]
    }
   ],
   "source": [
    "soup_b = BeautifulSoup(page_b.content, 'html.parser')"
   ]
  },
  {
   "cell_type": "code",
   "execution_count": 213,
   "metadata": {},
   "outputs": [
    {
     "name": "stdout",
     "output_type": "stream",
     "text": [
      "[]\n"
     ]
    }
   ],
   "source": [
    "row = soup_b.find_all('tbody', class_=\"th\")\n",
    "print(row)"
   ]
  }
 ],
 "metadata": {
  "kernelspec": {
   "display_name": "base",
   "language": "python",
   "name": "python3"
  },
  "language_info": {
   "codemirror_mode": {
    "name": "ipython",
    "version": 3
   },
   "file_extension": ".py",
   "mimetype": "text/x-python",
   "name": "python",
   "nbconvert_exporter": "python",
   "pygments_lexer": "ipython3",
   "version": "3.9.13"
  },
  "orig_nbformat": 4
 },
 "nbformat": 4,
 "nbformat_minor": 2
}
